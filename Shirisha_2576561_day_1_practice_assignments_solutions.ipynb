{
 "cells": [
  {
   "cell_type": "markdown",
   "id": "7fa05847",
   "metadata": {},
   "source": [
    "# Manipulate using a list"
   ]
  },
  {
   "cell_type": "code",
   "execution_count": 1,
   "id": "bca32e41",
   "metadata": {},
   "outputs": [
    {
     "data": {
      "text/plain": [
       "[1, 2, 3]"
      ]
     },
     "execution_count": 1,
     "metadata": {},
     "output_type": "execute_result"
    }
   ],
   "source": [
    "list=[1,2,3]\n",
    "list"
   ]
  },
  {
   "cell_type": "code",
   "execution_count": 2,
   "id": "e8f63db5",
   "metadata": {},
   "outputs": [
    {
     "data": {
      "text/plain": [
       "[1, 2, 3, 'siri']"
      ]
     },
     "execution_count": 2,
     "metadata": {},
     "output_type": "execute_result"
    }
   ],
   "source": [
    "#i)To add new elements to the end of the list.\n",
    "\n",
    "\n",
    "list.append('siri')                             \n",
    "list"
   ]
  },
  {
   "cell_type": "code",
   "execution_count": 8,
   "id": "f82f7ad1",
   "metadata": {},
   "outputs": [
    {
     "ename": "AttributeError",
     "evalue": "'list' object has no attribute 'revesre'",
     "output_type": "error",
     "traceback": [
      "\u001b[1;31m---------------------------------------------------------------------------\u001b[0m",
      "\u001b[1;31mAttributeError\u001b[0m                            Traceback (most recent call last)",
      "Cell \u001b[1;32mIn[8], line 2\u001b[0m\n\u001b[0;32m      1\u001b[0m \u001b[38;5;28mlist\u001b[39m\u001b[38;5;241m=\u001b[39m[\u001b[38;5;241m1\u001b[39m,\u001b[38;5;241m12\u001b[39m,\u001b[38;5;241m3\u001b[39m]\n\u001b[1;32m----> 2\u001b[0m \u001b[38;5;28mlist\u001b[39m\u001b[38;5;241m.\u001b[39mrevesre()\n\u001b[0;32m      3\u001b[0m \u001b[38;5;28mprint\u001b[39m(\u001b[38;5;124m\"\u001b[39m\u001b[38;5;124musing reverse( )\u001b[39m\u001b[38;5;124m\"\u001b[39m, \u001b[38;5;28mlist\u001b[39m)\n",
      "\u001b[1;31mAttributeError\u001b[0m: 'list' object has no attribute 'revesre'"
     ]
    }
   ],
   "source": [
    "list=[1,12,3]\n",
    "list.revesre()\n",
    "print(\"using reverse( )\", list)"
   ]
  },
  {
   "cell_type": "code",
   "execution_count": 9,
   "id": "60514c42",
   "metadata": {},
   "outputs": [
    {
     "name": "stdout",
     "output_type": "stream",
     "text": [
      "[3, 2, 1]\n"
     ]
    }
   ],
   "source": [
    "#ii)To reverse elements in the list.\n",
    "\n",
    "\n",
    "lst=[1,2,3]\n",
    "lst.reverse()\n",
    "print(lst)"
   ]
  },
  {
   "cell_type": "code",
   "execution_count": 10,
   "id": "8125b3ba",
   "metadata": {},
   "outputs": [
    {
     "ename": "TypeError",
     "evalue": "can only concatenate str (not \"int\") to str",
     "output_type": "error",
     "traceback": [
      "\u001b[1;31m---------------------------------------------------------------------------\u001b[0m",
      "\u001b[1;31mTypeError\u001b[0m                                 Traceback (most recent call last)",
      "Cell \u001b[1;32mIn[10], line 1\u001b[0m\n\u001b[1;32m----> 1\u001b[0m a\u001b[38;5;241m=\u001b[39m\u001b[38;5;124m\"\u001b[39m\u001b[38;5;124mhello\u001b[39m\u001b[38;5;124m\"\u001b[39m \u001b[38;5;241m+\u001b[39m\u001b[38;5;241m10\u001b[39m\n\u001b[0;32m      2\u001b[0m \u001b[38;5;28mprint\u001b[39m(a)\n",
      "\u001b[1;31mTypeError\u001b[0m: can only concatenate str (not \"int\") to str"
     ]
    }
   ],
   "source": [
    "a=\"hello\" +10\n",
    "print(a)"
   ]
  },
  {
   "cell_type": "code",
   "execution_count": 11,
   "id": "d8fd85ef",
   "metadata": {},
   "outputs": [
    {
     "ename": "TypeError",
     "evalue": "can only concatenate str (not \"int\") to str",
     "output_type": "error",
     "traceback": [
      "\u001b[1;31m---------------------------------------------------------------------------\u001b[0m",
      "\u001b[1;31mTypeError\u001b[0m                                 Traceback (most recent call last)",
      "Cell \u001b[1;32mIn[11], line 1\u001b[0m\n\u001b[1;32m----> 1\u001b[0m a\u001b[38;5;241m=\u001b[39m\u001b[38;5;124m\"\u001b[39m\u001b[38;5;124m*\u001b[39m\u001b[38;5;124m\"\u001b[39m \u001b[38;5;241m+\u001b[39m \u001b[38;5;241m10\u001b[39m\n\u001b[0;32m      2\u001b[0m \u001b[38;5;28mprint\u001b[39m(a)\n",
      "\u001b[1;31mTypeError\u001b[0m: can only concatenate str (not \"int\") to str"
     ]
    }
   ],
   "source": [
    "a=\"*\" + 10\n",
    "print(a)"
   ]
  },
  {
   "cell_type": "code",
   "execution_count": 1,
   "id": "ad9d04ce",
   "metadata": {},
   "outputs": [
    {
     "name": "stdout",
     "output_type": "stream",
     "text": [
      "hello hello hello hello hello hello hello hello hello hello \n"
     ]
    }
   ],
   "source": [
    "#iii)To display the same list of elements multiple times.\n",
    "\n",
    "a=\"hello \" *10\n",
    "print(a)"
   ]
  },
  {
   "cell_type": "code",
   "execution_count": 2,
   "id": "2a62d6c3",
   "metadata": {},
   "outputs": [
    {
     "name": "stdout",
     "output_type": "stream",
     "text": [
      "[1, 4, 2, 3]\n"
     ]
    }
   ],
   "source": [
    "#iv)To concatenate two list\n",
    "\n",
    "a=[1,4]\n",
    "b=[2,3]\n",
    "c=a+b\n",
    "print(c)"
   ]
  },
  {
   "cell_type": "code",
   "execution_count": 3,
   "id": "549d3147",
   "metadata": {},
   "outputs": [
    {
     "name": "stdout",
     "output_type": "stream",
     "text": [
      "[1, 2, 3]\n"
     ]
    }
   ],
   "source": [
    "#v)To sort the elements in the list in ascending order.\n",
    "\n",
    "nums=[3,2,1]\n",
    "nums.sort()\n",
    "print(nums)"
   ]
  },
  {
   "cell_type": "markdown",
   "id": "6798accc",
   "metadata": {},
   "source": [
    "# 2.Write a Python program to do in the tuples."
   ]
  },
  {
   "cell_type": "code",
   "execution_count": null,
   "id": "b999281b",
   "metadata": {},
   "outputs": [],
   "source": [
    "i) Manipulate using tuples\n",
    "\n",
    "A: We can't do the manipulate"
   ]
  },
  {
   "cell_type": "code",
   "execution_count": 5,
   "id": "d092c35b",
   "metadata": {},
   "outputs": [
    {
     "name": "stdout",
     "output_type": "stream",
     "text": [
      "(2, 5, 9, 8, 9)\n"
     ]
    }
   ],
   "source": [
    "#ii)to add new elements to the end of the tuples\n",
    "\n",
    "s=(2,5,9)\n",
    "s_append=s+(8,9)\n",
    "print(s_append)"
   ]
  },
  {
   "cell_type": "code",
   "execution_count": 6,
   "id": "30dca571",
   "metadata": {},
   "outputs": [
    {
     "name": "stdout",
     "output_type": "stream",
     "text": [
      "[(2, 1), (4, 3)]\n"
     ]
    }
   ],
   "source": [
    "#iii)to reverse elements in the list.\n",
    "\n",
    "def reverseTuple(lstofTuple):\n",
    "    return [tuple(reversed(tup)) for tup in lstofTuple]\n",
    "\n",
    "lstofTuple=[(1,2), (3,4)]\n",
    "print(reverseTuple(lstofTuple))"
   ]
  },
  {
   "cell_type": "code",
   "execution_count": 7,
   "id": "e60deb32",
   "metadata": {},
   "outputs": [
    {
     "name": "stdout",
     "output_type": "stream",
     "text": [
      "(10, 10, 10, 10, 10)\n"
     ]
    }
   ],
   "source": [
    "#iv)to display the elements of the same tuple multiple times.\n",
    "\n",
    "num_tuple=(10,) * 5\n",
    "print(num_tuple)"
   ]
  },
  {
   "cell_type": "code",
   "execution_count": 1,
   "id": "aa049ae7",
   "metadata": {},
   "outputs": [
    {
     "data": {
      "text/plain": [
       "([6, 7], [8.0])"
      ]
     },
     "execution_count": 1,
     "metadata": {},
     "output_type": "execute_result"
    }
   ],
   "source": [
    "#vi)to sort the elements in the list in ascending order.\n",
    "\n",
    "t1=[7,6]\n",
    "t2=[8.0]\n",
    "t3=(t1,t2)\n",
    "t1.sort()\n",
    "t3"
   ]
  },
  {
   "cell_type": "markdown",
   "id": "2a262cf8",
   "metadata": {},
   "source": [
    "# 3) Write a python prograam to implement the following using list"
   ]
  },
  {
   "cell_type": "code",
   "execution_count": 7,
   "id": "0806ea63",
   "metadata": {},
   "outputs": [
    {
     "data": {
      "text/plain": [
       "[99, 8, 7, 5, 66, 3, 5, 8, 11, 22, 44, 4]"
      ]
     },
     "execution_count": 7,
     "metadata": {},
     "output_type": "execute_result"
    }
   ],
   "source": [
    "#i)ceate a list with integers(min 10 numbers)\n",
    "\n",
    "lst=[99,8,7,5,66,3,5,8,11,22,44,4]\n",
    "lst"
   ]
  },
  {
   "cell_type": "code",
   "execution_count": 9,
   "id": "ffc08e88",
   "metadata": {},
   "outputs": [
    {
     "name": "stdout",
     "output_type": "stream",
     "text": [
      "The last number in the list is: 4\n"
     ]
    }
   ],
   "source": [
    "#ii)how to display the last number in the list\n",
    "\n",
    "my_list=[99, 8, 7, 5, 66, 3, 5, 8,11, 22, 44, 4]\n",
    "\n",
    "#using negative index -1 to get the last element\n",
    "last_number = my_list[-1]\n",
    "\n",
    "print(f\"The last number in the list is: {last_number}\")"
   ]
  },
  {
   "cell_type": "code",
   "execution_count": 10,
   "id": "1f0d891f",
   "metadata": {},
   "outputs": [
    {
     "name": "stdout",
     "output_type": "stream",
     "text": [
      "Values from the list: [1, 2, 3, 4]\n"
     ]
    }
   ],
   "source": [
    "#iii) command for displaying the values from the list[0:4]\n",
    "\n",
    "my_list=[1,2,3,4,5,6,7,8,9,10,11,12]\n",
    "\n",
    "#display values from index 0 to 3\n",
    "values=my_list[0:4]\n",
    "\n",
    "print(\"Values from the list:\", values)"
   ]
  },
  {
   "cell_type": "code",
   "execution_count": 11,
   "id": "a612b811",
   "metadata": {},
   "outputs": [
    {
     "name": "stdout",
     "output_type": "stream",
     "text": [
      "Values from the list: [3, 4, 5, 6, 7, 8, 9, 10]\n"
     ]
    }
   ],
   "source": [
    "#iv)command for displaying the values from the list[2:]\n",
    "\n",
    "my_list=[1,2,3,4,5,6,7,8,9,10]\n",
    "\n",
    "values=my_list[2:]\n",
    "print(\"Values from the list:\", values)"
   ]
  },
  {
   "cell_type": "code",
   "execution_count": 13,
   "id": "d66c1309",
   "metadata": {},
   "outputs": [
    {
     "name": "stdout",
     "output_type": "stream",
     "text": [
      "First 6 values from the list: [1, 2, 3, 4, 5, 6, 7]\n"
     ]
    }
   ],
   "source": [
    "#v)command for displaying the values from the list[:6]\n",
    "\n",
    "my_list=[1,2,3,4,5,6,7]\n",
    "\n",
    "values=my_list\n",
    "print(\"First 6 values from the list:\", values)"
   ]
  },
  {
   "cell_type": "markdown",
   "id": "2f763311",
   "metadata": {},
   "source": [
    "# 4.write a python program:"
   ]
  },
  {
   "cell_type": "code",
   "execution_count": 18,
   "id": "6d41c5f0",
   "metadata": {},
   "outputs": [
    {
     "name": "stdout",
     "output_type": "stream",
     "text": [
      "E1: 10\n",
      "E2: 50\n"
     ]
    }
   ],
   "source": [
    "#i)to display the elements 10 and 50 from tuple1\n",
    "\n",
    "t1=(10,50,20,40,30)\n",
    "\n",
    "e1=t1[0]\n",
    "e2=t1[1]\n",
    "\n",
    "print(\"E1:\", e1)\n",
    "print(\"E2:\", e2)\n"
   ]
  },
  {
   "cell_type": "code",
   "execution_count": 22,
   "id": "34ec2448",
   "metadata": {},
   "outputs": [
    {
     "name": "stdout",
     "output_type": "stream",
     "text": [
      "Length of tuple1: 5\n"
     ]
    }
   ],
   "source": [
    "#ii)to dsiplay the length of a tuple1\n",
    "\n",
    "tuple1=(10,50,20,40,30)\n",
    "\n",
    "length=len(tuple1)\n",
    "\n",
    "print(\"Length of tuple1:\", length)\n",
    "\n",
    "\n",
    "\n"
   ]
  },
  {
   "cell_type": "code",
   "execution_count": 23,
   "id": "028150a8",
   "metadata": {},
   "outputs": [
    {
     "name": "stdout",
     "output_type": "stream",
     "text": [
      "Minimunn element from tuple1: 10\n"
     ]
    }
   ],
   "source": [
    "#iii)to find the minimum element from tuple1.\n",
    "\n",
    "t1=(10,50,20,40,30)\n",
    "\n",
    "min_element=min(tuple1)\n",
    "\n",
    "print(\"Minimunn element from tuple1:\", min_element)\n",
    "\n",
    "\n"
   ]
  },
  {
   "cell_type": "code",
   "execution_count": 24,
   "id": "b0d44a93",
   "metadata": {},
   "outputs": [
    {
     "name": "stdout",
     "output_type": "stream",
     "text": [
      "Sum of all elements in tuple1: 150\n"
     ]
    }
   ],
   "source": [
    "#iv)to add all elements in the tuple1\n",
    "\n",
    "t1=(10,50,20,40,30)\n",
    "\n",
    "total=sum(tuple1)\n",
    "print(\"Sum of all elements in tuple1:\", total)"
   ]
  },
  {
   "cell_type": "code",
   "execution_count": 25,
   "id": "ad246183",
   "metadata": {},
   "outputs": [
    {
     "name": "stdout",
     "output_type": "stream",
     "text": [
      "Tuple1 displayed 3 times: (10, 50, 20, 40, 30, 10, 50, 20, 40, 30, 10, 50, 20, 40, 30)\n"
     ]
    }
   ],
   "source": [
    "#v)to display the same tuple1 multiple times.\n",
    "\n",
    "t1=(10,50,20,40,30)\n",
    "n=3\n",
    "result=tuple1*n\n",
    "print(\"Tuple1 displayed\", n, \"times:\", result)"
   ]
  },
  {
   "cell_type": "markdown",
   "id": "3d0dc3a1",
   "metadata": {},
   "source": [
    "# 5.write a python program"
   ]
  },
  {
   "cell_type": "code",
   "execution_count": 8,
   "id": "36a6a8e1",
   "metadata": {},
   "outputs": [
    {
     "name": "stdout",
     "output_type": "stream",
     "text": [
      "11\n"
     ]
    }
   ],
   "source": [
    "str1 = \"South India\"\n",
    "length = len(str1)\n",
    "print(length)"
   ]
  },
  {
   "cell_type": "code",
   "execution_count": 29,
   "id": "dcc80f0b",
   "metadata": {},
   "outputs": [
    {
     "name": "stdout",
     "output_type": "stream",
     "text": [
      "enter a string: ranjith\n",
      "Reversed string: ranjith\n"
     ]
    }
   ],
   "source": []
  },
  {
   "cell_type": "code",
   "execution_count": 30,
   "id": "da214004",
   "metadata": {},
   "outputs": [
    {
     "name": "stdout",
     "output_type": "stream",
     "text": [
      "Hello, World!Hello, World!Hello, World!\n"
     ]
    }
   ],
   "source": []
  },
  {
   "cell_type": "code",
   "execution_count": 32,
   "id": "cba5095e",
   "metadata": {},
   "outputs": [
    {
     "name": "stdout",
     "output_type": "stream",
     "text": [
      "cooncatenated string: hello world\n"
     ]
    }
   ],
   "source": []
  },
  {
   "cell_type": "code",
   "execution_count": 24,
   "id": "754b4a29",
   "metadata": {},
   "outputs": [
    {
     "name": "stdout",
     "output_type": "stream",
     "text": [
      "Enter a string: Sirisharanjith\n",
      "The length of the string is: 14\n"
     ]
    }
   ],
   "source": [
    "#i)to calculate the length of the string.\n",
    "\n",
    "# Input a string\n",
    "my_string = input(\"Enter a string: \")\n",
    "\n",
    "# Calculate the length of the string\n",
    "string_length = len(my_string)\n",
    "\n",
    "# Display the length\n",
    "print(f\"The length of the string is: {string_length}\")\n"
   ]
  },
  {
   "cell_type": "code",
   "execution_count": 2,
   "id": "23d7bf64",
   "metadata": {},
   "outputs": [
    {
     "name": "stdout",
     "output_type": "stream",
     "text": [
      "13\n"
     ]
    }
   ],
   "source": []
  },
  {
   "cell_type": "code",
   "execution_count": 3,
   "id": "5921533c",
   "metadata": {},
   "outputs": [
    {
     "name": "stdout",
     "output_type": "stream",
     "text": [
      "world! Hello,\n"
     ]
    }
   ],
   "source": [
    "#ii)to reverse words in a string\n",
    "\n",
    "def reverse_words(string):\n",
    "    words = string.split()\n",
    "    reversed_words = words[::-1]\n",
    "    reversed_string = \" \".join(reversed_words)\n",
    "    return reversed_string\n",
    "\n",
    "string = \"Hello, world!\"\n",
    "reversed_string = reverse_words(string)\n",
    "print(reversed_string)"
   ]
  },
  {
   "cell_type": "code",
   "execution_count": 6,
   "id": "9b302b7c",
   "metadata": {},
   "outputs": [
    {
     "name": "stdout",
     "output_type": "stream",
     "text": [
      "Hello!Hello!Hello!\n"
     ]
    }
   ],
   "source": [
    "#iii)To display the same string multipletimes\n",
    "\n",
    "string = \"Hello!\"\n",
    "repeated_string = string * 3\n",
    "print(repeated_string)"
   ]
  },
  {
   "cell_type": "code",
   "execution_count": 7,
   "id": "a126746d",
   "metadata": {},
   "outputs": [
    {
     "name": "stdout",
     "output_type": "stream",
     "text": [
      "Hello world\n"
     ]
    }
   ],
   "source": [
    "#iv)To concatenate two strings\n",
    "\n",
    "string1 = \"Hello\"\n",
    "string2 = \"world\"\n",
    "concatenated_string = string1 + \" \" + string2\n",
    "print(concatenated_string)"
   ]
  },
  {
   "cell_type": "code",
   "execution_count": 5,
   "id": "7029a7ef",
   "metadata": {},
   "outputs": [
    {
     "name": "stdout",
     "output_type": "stream",
     "text": [
      "India\n"
     ]
    }
   ],
   "source": [
    "#v)Str1=\"South India\", using string slicing to display \"India\"\n",
    "\n",
    "str1 = \"South India\"\n",
    "india = str1[6:]\n",
    "print(india)"
   ]
  },
  {
   "cell_type": "markdown",
   "id": "8bb60504",
   "metadata": {},
   "source": [
    "# 6.perform the following"
   ]
  },
  {
   "cell_type": "code",
   "execution_count": 9,
   "id": "98af22e9",
   "metadata": {},
   "outputs": [
    {
     "name": "stdout",
     "output_type": "stream",
     "text": [
      "{'name': 'John', 'age': 30, 'city': 'New York'}\n"
     ]
    }
   ],
   "source": [
    "#i)creating the dictionary\n",
    "\n",
    "my_dict = {\n",
    "    \"name\": \"John\",\n",
    "    \"age\": 30,\n",
    "    \"city\": \"New York\"\n",
    "}\n",
    "\n",
    "print(my_dict)\n"
   ]
  },
  {
   "cell_type": "code",
   "execution_count": 25,
   "id": "fa71ecf0",
   "metadata": {},
   "outputs": [
    {
     "name": "stdout",
     "output_type": "stream",
     "text": [
      "Values:\n",
      "Name: John\n",
      "Age: 30\n",
      "City: New York\n",
      "Keys: ['name', 'age', 'city']\n"
     ]
    }
   ],
   "source": [
    "#ii)Accessing values and keys in the dictionary\n",
    "\n",
    "my_dict = {\n",
    "    \"name\": \"John\",\n",
    "    \"age\": 30,\n",
    "    \"city\": \"New York\"\n",
    "}\n",
    "\n",
    "# Accessing values by keys\n",
    "name = my_dict[\"name\"]\n",
    "age = my_dict[\"age\"]\n",
    "city = my_dict[\"city\"]\n",
    "\n",
    "# Accessing keys using the keys() method\n",
    "keys = my_dict.keys()\n",
    "\n",
    "print(\"Values:\")\n",
    "print(\"Name:\", name)\n",
    "print(\"Age:\", age)\n",
    "print(\"City:\", city)\n",
    "\n",
    "print(\"Keys:\", list(keys))\n"
   ]
  },
  {
   "cell_type": "code",
   "execution_count": 11,
   "id": "56db7cc4",
   "metadata": {},
   "outputs": [
    {
     "name": "stdout",
     "output_type": "stream",
     "text": [
      "{'name': 'John', 'age': 31, 'city': 'New York'}\n",
      "{'name': 'John', 'age': 30, 'city': 'New York', 'country': 'USA'}\n"
     ]
    }
   ],
   "source": [
    "#iii)updating the dictionary using afunction.\n",
    "my_dict = {\n",
    "    \"name\": \"John\",\n",
    "    \"age\": 30,\n",
    "    \"city\": \"New York\"\n",
    "}\n",
    "\n",
    "# Updating the value associated with the \"age\" key\n",
    "my_dict[\"age\"] = 31\n",
    "\n",
    "print(my_dict)\n",
    "\n",
    "\n",
    "my_dict = {\n",
    "    \"name\": \"John\",\n",
    "    \"age\": 30,\n",
    "    \"city\": \"New York\"\n",
    "}\n",
    "\n",
    "# Adding a new key-value pair\n",
    "my_dict[\"country\"] = \"USA\"\n",
    "\n",
    "print(my_dict)\n",
    "\n",
    "\n"
   ]
  },
  {
   "cell_type": "code",
   "execution_count": 12,
   "id": "2a6b72be",
   "metadata": {},
   "outputs": [
    {
     "name": "stdout",
     "output_type": "stream",
     "text": [
      "{'name': 'John', 'age': 31, 'city': 'New York', 'country': 'USA'}\n"
     ]
    }
   ],
   "source": [
    "# Initial dictionary\n",
    "my_dict = {\n",
    "    \"name\": \"John\",\n",
    "    \"age\": 30,\n",
    "    \"city\": \"New York\"\n",
    "}\n",
    "\n",
    "# Create a dictionary with the updates\n",
    "updates = {\n",
    "    \"age\": 31,  # Updating the \"age\" key\n",
    "    \"country\": \"USA\"  # Adding a new key-value pair\n",
    "}\n",
    "\n",
    "# Update the initial dictionary with the contents of the 'updates' dictionary\n",
    "my_dict.update(updates)\n",
    "\n",
    "print(my_dict)\n"
   ]
  },
  {
   "cell_type": "code",
   "execution_count": 15,
   "id": "6aaab887",
   "metadata": {},
   "outputs": [
    {
     "name": "stdout",
     "output_type": "stream",
     "text": [
      "{}\n"
     ]
    }
   ],
   "source": [
    "#iv)clear and delete the dictonary values.\n",
    "\n",
    "my_dict = {\n",
    "    \"name\": \"John\",\n",
    "    \"age\": 30,\n",
    "    \"city\": \"New York\"\n",
    "}\n",
    "\n",
    "my_dict.clear()\n",
    "\n",
    "print(my_dict)\n",
    "\n",
    "\n",
    "my_dict = {\n",
    "    \"name\": \"John\",\n",
    "    \"age\": 30,\n",
    "    \"city\": \"New York\"\n",
    "}\n",
    "\n",
    "del my_dict"
   ]
  },
  {
   "cell_type": "code",
   "execution_count": 16,
   "id": "bc8b6bbd",
   "metadata": {},
   "outputs": [
    {
     "name": "stdout",
     "output_type": "stream",
     "text": [
      "[1, 2, 10, 3, 4, 5]\n"
     ]
    }
   ],
   "source": [
    "#7.Python program to insert a number to any position in a list\n",
    "\n",
    "# Sample list\n",
    "my_list = [1, 2, 3, 4, 5]\n",
    "\n",
    "# Number to insert\n",
    "number_to_insert = 10\n",
    "\n",
    "# Position to insert (0-based index)\n",
    "position = 2\n",
    "\n",
    "# Insert the number at the specified position\n",
    "my_list.insert(position, number_to_insert)\n",
    "\n",
    "# Print the updated list\n",
    "print(my_list)\n"
   ]
  },
  {
   "cell_type": "code",
   "execution_count": 17,
   "id": "cce2af0a",
   "metadata": {},
   "outputs": [
    {
     "name": "stdout",
     "output_type": "stream",
     "text": [
      "[1, 2, 4, 5]\n",
      "Updated List: [1, 2, 4, 5]\n",
      "Deleted Element: 3\n"
     ]
    }
   ],
   "source": [
    "#8.Python program to delete an element from a list by index\n",
    "\n",
    "# Sample list\n",
    "my_list = [1, 2, 3, 4, 5]\n",
    "\n",
    "# Index of the element to delete\n",
    "index_to_delete = 2\n",
    "\n",
    "# Delete the element at the specified index\n",
    "del my_list[index_to_delete]\n",
    "\n",
    "# Print the updated list\n",
    "print(my_list)\n",
    "\n",
    "\n",
    "\n",
    "# Sample list\n",
    "my_list = [1, 2, 3, 4, 5]\n",
    "\n",
    "# Index of the element to delete\n",
    "index_to_delete = 2\n",
    "\n",
    "# Delete the element at the specified index using pop()\n",
    "deleted_element = my_list.pop(index_to_delete)\n",
    "\n",
    "# Print the updated list and the deleted element\n",
    "print(\"Updated List:\", my_list)\n",
    "print(\"Deleted Element:\", deleted_element)"
   ]
  },
  {
   "cell_type": "code",
   "execution_count": 18,
   "id": "0cad67b9",
   "metadata": {},
   "outputs": [
    {
     "name": "stdout",
     "output_type": "stream",
     "text": [
      "Enter a number between 1 and 100: 5\n",
      "You entered: 5\n"
     ]
    }
   ],
   "source": [
    "\n"
   ]
  },
  {
   "cell_type": "code",
   "execution_count": 19,
   "id": "e5c02570",
   "metadata": {},
   "outputs": [
    {
     "name": "stdout",
     "output_type": "stream",
     "text": [
      "1\n",
      "2\n",
      "3\n",
      "4\n",
      "5\n",
      "6\n",
      "7\n",
      "8\n",
      "9\n",
      "10\n",
      "11\n",
      "12\n",
      "13\n",
      "14\n",
      "15\n",
      "16\n",
      "17\n",
      "18\n",
      "19\n",
      "20\n",
      "21\n",
      "22\n",
      "23\n",
      "24\n",
      "25\n",
      "26\n",
      "27\n",
      "28\n",
      "29\n",
      "30\n",
      "31\n",
      "32\n",
      "33\n",
      "34\n",
      "35\n",
      "36\n",
      "37\n",
      "38\n",
      "39\n",
      "40\n",
      "41\n",
      "42\n",
      "43\n",
      "44\n",
      "45\n",
      "46\n",
      "47\n",
      "48\n",
      "49\n",
      "50\n",
      "51\n",
      "52\n",
      "53\n",
      "54\n",
      "55\n",
      "56\n",
      "57\n",
      "58\n",
      "59\n",
      "60\n",
      "61\n",
      "62\n",
      "63\n",
      "64\n",
      "65\n",
      "66\n",
      "67\n",
      "68\n",
      "69\n",
      "70\n",
      "71\n",
      "72\n",
      "73\n",
      "74\n",
      "75\n",
      "76\n",
      "77\n",
      "78\n",
      "79\n",
      "80\n",
      "81\n",
      "82\n",
      "83\n",
      "84\n",
      "85\n",
      "86\n",
      "87\n",
      "88\n",
      "89\n",
      "90\n",
      "91\n",
      "92\n",
      "93\n",
      "94\n",
      "95\n",
      "96\n",
      "97\n",
      "98\n",
      "99\n",
      "100\n"
     ]
    }
   ],
   "source": [
    "#9.Write a program to display a number from 1 to 100\n",
    "\n",
    "for number in range(1, 101):\n",
    "    print(number)\n"
   ]
  },
  {
   "cell_type": "code",
   "execution_count": null,
   "id": "af6e8d6a",
   "metadata": {},
   "outputs": [],
   "source": [
    "#10)Write a Python program o find the sum of all items in a tuple\n",
    "\n",
    "# Sample tuple\n",
    "my_tuple = (1, 2, 3, 4, 5)\n",
    "\n",
    "# Initialize a variable to store the sum\n",
    "total_sum = 0\n",
    "\n",
    "# Iterate through the tuple and add each item to the sum\n",
    "for item in my_tuple:\n",
    "    total_sum += item\n",
    "\n",
    "# Print the sum\n",
    "print(\"Sum of items in the tuple:\", total_sum)"
   ]
  },
  {
   "cell_type": "code",
   "execution_count": 20,
   "id": "5a0fe871",
   "metadata": {},
   "outputs": [
    {
     "name": "stdout",
     "output_type": "stream",
     "text": [
      "Words with the second character in uppercase: ['hOw', 'ARe']\n"
     ]
    }
   ],
   "source": [
    "#12.A list of words is given.Find the words from the list that have their second character in uppercase Is=['hello','Dear','hOw','ARe','You']\n",
    "\n",
    "word_list = ['hello', 'Dear', 'hOw', 'ARe', 'You']\n",
    "\n",
    "result_words = []\n",
    "\n",
    "for word in word_list:\n",
    "    if len(word) >= 2 and word[1].isupper():\n",
    "        result_words.append(word)\n",
    "\n",
    "print(\"Words with the second character in uppercase:\", result_words)\n",
    "\n"
   ]
  },
  {
   "cell_type": "code",
   "execution_count": null,
   "id": "d186c107",
   "metadata": {},
   "outputs": [],
   "source": [
    "math_operations = {\n",
    "    'square': lambda x: x**2,\n",
    "    'cube': lambda x: x**3,\n",
    "    'square_root': lambda x: x**0.5\n",
    "}\n",
    "\n",
    "number=6\n",
    "print(\"square:\",math_operations['square'](number))\n",
    "print(\"Cube:\", math_operations['cube'](number))\n",
    "print(\"Square Root:\", math_operations['square_root'](number))"
   ]
  },
  {
   "cell_type": "code",
   "execution_count": null,
   "id": "4101bbc0",
   "metadata": {},
   "outputs": [],
   "source": [
    "#13.A\n",
    "\n",
    "gmoon=1.622\n",
    "gearth=9.81\n",
    "weightonearth={'john':45,'shelly':65,'marry':35}\n",
    "moon_weight={name:(weight*gmoon)/gearth for name,weight in weightonearth.items()}\n",
    "for name,weight_moon in moon_weight.items():\n",
    "    print(f\"{name} :{weight_moon:.2f} kg\")"
   ]
  },
  {
   "cell_type": "code",
   "execution_count": null,
   "id": "ef86c29a",
   "metadata": {},
   "outputs": [],
   "source": []
  },
  {
   "cell_type": "markdown",
   "id": "7c5073e6",
   "metadata": {},
   "source": [
    "# Control Structures"
   ]
  },
  {
   "cell_type": "code",
   "execution_count": 21,
   "id": "3f1fee5d",
   "metadata": {},
   "outputs": [
    {
     "name": "stdout",
     "output_type": "stream",
     "text": [
      "Enter the value of N: 2\n",
      "The first 2 prime numbers are: [2, 3]\n"
     ]
    }
   ],
   "source": [
    "1.write a python program to find the first N prime numbers\n",
    "\n",
    "def is_prime(num):\n",
    "    if num <= 1:\n",
    "        return False\n",
    "    if num <= 3:\n",
    "        return True\n",
    "    if num % 2 == 0 or num % 3 == 0:\n",
    "        return False\n",
    "    i = 5\n",
    "    while i * i <= num:\n",
    "        if num % i == 0 or num % (i + 2) == 0:\n",
    "            return False\n",
    "        i += 6\n",
    "    return True\n",
    "\n",
    "def find_primes(n):\n",
    "    primes = []\n",
    "    num = 2\n",
    "    while len(primes) < n:\n",
    "        if is_prime(num):\n",
    "            primes.append(num)\n",
    "        num += 1\n",
    "    return primes\n",
    "\n",
    "N = int(input(\"Enter the value of N: \"))\n",
    "prime_list = find_primes(N)\n",
    "print(f\"The first {N} prime numbers are: {prime_list}\")"
   ]
  },
  {
   "cell_type": "code",
   "execution_count": null,
   "id": "a08185e4",
   "metadata": {},
   "outputs": [],
   "source": [
    "2."
   ]
  },
  {
   "cell_type": "code",
   "execution_count": 22,
   "id": "29b1eb73",
   "metadata": {},
   "outputs": [
    {
     "name": "stdout",
     "output_type": "stream",
     "text": [
      "Enter the string to search for: 3\n",
      "The string '3' was not found in the list.\n"
     ]
    }
   ],
   "source": [
    "#3.write a python program to serach for a string in the given list.\n",
    "\n",
    "# Create a list of strings\n",
    "my_list = [\"apple\", \"banana\", \"cherry\", \"date\", \"elderberry\"]\n",
    "\n",
    "# Input the string to search for\n",
    "search_string = input(\"Enter the string to search for: \")\n",
    "\n",
    "# Initialize a flag to check if the string is found\n",
    "found = False\n",
    "\n",
    "# Iterate through the list to search for the string\n",
    "for item in my_list:\n",
    "    if search_string == item:\n",
    "        found = True\n",
    "        break\n",
    "\n",
    "# Check if the string was found or not\n",
    "if found:\n",
    "    print(f\"The string '{search_string}' was found in the list.\")\n",
    "else:\n",
    "    print(f\"The string '{search_string}' was not found in the list.\")\n"
   ]
  },
  {
   "cell_type": "code",
   "execution_count": null,
   "id": "86a41ce1",
   "metadata": {},
   "outputs": [],
   "source": [
    "#4.write a python program that acceptsa string and calculates the numbers of upper-case letters and lower case letters.\n",
    "\n",
    "\n",
    "\n"
   ]
  },
  {
   "cell_type": "code",
   "execution_count": 23,
   "id": "2c51b6f1",
   "metadata": {},
   "outputs": [
    {
     "name": "stdout",
     "output_type": "stream",
     "text": [
      "Sum of even numbers between 12 and 37: 312\n",
      "Sum of odd numbers between 12 and 37: 325\n"
     ]
    }
   ],
   "source": [
    "5\n",
    "# Initialize variables to store the sums\n",
    "even_sum = 0\n",
    "odd_sum = 0\n",
    "\n",
    "# Iterate through numbers from 12 to 37\n",
    "for num in range(12, 38):\n",
    "    if num % 2 == 0:  # Check if the number is even\n",
    "        even_sum += num\n",
    "    else:\n",
    "        odd_sum += num\n",
    "\n",
    "# Display the sums\n",
    "print(f\"Sum of even numbers between 12 and 37: {even_sum}\")\n",
    "print(f\"Sum of odd numbers between 12 and 37: {odd_sum}\")"
   ]
  },
  {
   "cell_type": "code",
   "execution_count": null,
   "id": "fec2e706",
   "metadata": {},
   "outputs": [],
   "source": [
    "6\n",
    "# Input the number for which you want to print the table\n",
    "number = int(input(\"Enter a number: \"))\n",
    "\n",
    "# Define the range of the table, e.g., from 1 to 10\n",
    "table_range = range(1, 11)\n",
    "\n",
    "# Iterate through the range and print the table\n",
    "print(f\"Multiplication Table for {number}:\")\n",
    "for i in table_range:\n",
    "    result = number * i\n",
    "    print(f\"{number} x {i} = {result}\")"
   ]
  },
  {
   "cell_type": "code",
   "execution_count": null,
   "id": "3d44cfd3",
   "metadata": {},
   "outputs": [],
   "source": [
    "7\n",
    "def is_prime(num):\n",
    "    if num <= 1:\n",
    "        return False\n",
    "    if num <= 3:\n",
    "        return True\n",
    "    if num % 2 == 0 or num % 3 == 0:\n",
    "        return False\n",
    "    i = 5\n",
    "    while i * i <= num:\n",
    "        if num % i == 0 or num % (i + 2) == 0:\n",
    "            return False\n",
    "        i += 6\n",
    "    return True\n",
    "\n",
    "def sum_of_first_n_primes(n):\n",
    "    prime_sum = 0\n",
    "    num = 2\n",
    "    count = 0\n",
    "    while count < n:\n",
    "        if is_prime(num):\n",
    "            prime_sum += num\n",
    "            count += 1\n",
    "        num += 1\n",
    "    return prime_sum\n",
    "\n",
    "n = 10\n",
    "prime_sum = sum_of_first_n_primes(n)\n",
    "print(f\"The sum of the first {n} prime numbers is: {prime_sum}\")\n"
   ]
  },
  {
   "cell_type": "code",
   "execution_count": null,
   "id": "d7576ab9",
   "metadata": {},
   "outputs": [],
   "source": [
    "# Input two numbers and the operation to perform\n",
    "num1 = float(input(\"Enter the first number: \"))\n",
    "num2 = float(input(\"Enter the second number: \"))\n",
    "operation = input(\"Enter the operation (+, -, *, /): \")\n",
    "\n",
    "# Perform arithmetic operations using nested if statements\n",
    "if operation == '+':\n",
    "    result = num1 + num2\n",
    "elif operation == '-':\n",
    "    result = num1 - num2\n",
    "elif operation == '*':\n",
    "    result = num1 * num2\n",
    "elif operation == '/':\n",
    "    if num2 == 0:\n",
    "        print(\"Error: Division by zero is not allowed.\")\n",
    "    else:\n",
    "        result = num1 / num2\n",
    "else:\n",
    "    print(\"Invalid operation entered.\")\n",
    "\n",
    "# Display the result\n",
    "print(f\"Result: {result}\")\n"
   ]
  },
  {
   "cell_type": "code",
   "execution_count": null,
   "id": "e5f8439c",
   "metadata": {},
   "outputs": [],
   "source": [
    "# Input temperature in Celsius\n",
    "celsius = float(input(\"Enter temperature in Celsius: \"))\n",
    "\n",
    "# Convert Celsius to Fahrenheit using the formula\n",
    "fahrenheit = (celsius * 9/5) + 32\n",
    "\n",
    "# Display the temperature in Fahrenheit\n",
    "print(f\"{celsius} degrees Celsius is equal to {fahrenheit} degrees Fahrenheit.\")\n"
   ]
  },
  {
   "cell_type": "code",
   "execution_count": null,
   "id": "ee47a6c3",
   "metadata": {},
   "outputs": [],
   "source": [
    "# Define a list of numbers\n",
    "numbers = [12, 45, 7, 23, 56, 89, 2, 8, 67]\n",
    "\n",
    "# Initialize variables to store the maximum and minimum values\n",
    "max_num = numbers[0]\n",
    "min_num = numbers[0]\n",
    "\n",
    "# Iterate through the list to find the maximum and minimum\n",
    "for num in numbers:\n",
    "    if num > max_num:\n",
    "        max_num = num\n",
    "    if num < min_num:\n",
    "        min_num = num\n",
    "\n",
    "# Display the maximum and minimum numbers\n",
    "print(f\"Maximum number in the list: {max_num}\")\n",
    "print(f\"Minimum number in the list: {min_num}\")\n"
   ]
  },
  {
   "cell_type": "code",
   "execution_count": null,
   "id": "56a3da4c",
   "metadata": {},
   "outputs": [],
   "source": [
    "# Define constants for time units\n",
    "days_per_month = 30\n",
    "hours_per_day = 24\n",
    "minutes_per_hour = 60\n",
    "seconds_per_minute = 60\n",
    "\n",
    "# Calculate the total number of seconds\n",
    "total_seconds = days_per_month * hours_per_day * minutes_per_hour * seconds_per_minute\n",
    "\n",
    "# Display the result\n",
    "print(f\"Number of seconds in a 30-day month: {total_seconds} seconds\")\n",
    "\n"
   ]
  },
  {
   "cell_type": "code",
   "execution_count": null,
   "id": "023c925b",
   "metadata": {},
   "outputs": [],
   "source": [
    " Define constants for time units\n",
    "seconds_per_minute = 60\n",
    "minutes_per_hour = 60\n",
    "hours_per_day = 24\n",
    "\n",
    "# Calculate the number of seconds in a day\n",
    "seconds_per_day = seconds_per_minute * minutes_per_hour * hours_per_day\n",
    "\n",
    "# Calculate the number of seconds in a non-leap year (365 days)\n",
    "days_per_year = 365\n",
    "seconds_per_year = days_per_year * seconds_per_day\n",
    "\n",
    "# Display the result\n",
    "print(f\"Number of seconds in a year (365 days): {seconds_per_year} seconds\")\n"
   ]
  },
  {
   "cell_type": "code",
   "execution_count": null,
   "id": "69c1260a",
   "metadata": {},
   "outputs": [],
   "source": [
    "# Define the speed of the train in miles per hour\n",
    "speed_mph = 150\n",
    "\n",
    "# Define the distance from London to Glasgow in miles\n",
    "distance_miles = 414\n",
    "\n",
    "# Calculate the time it takes to travel the distance\n",
    "time_hours = distance_miles / speed_mph\n",
    "\n",
    "# Display the result\n",
    "print(f\"It will take {time_hours} hours to travel from London to Glasgow at a speed of {speed_mph} mph.\")\n",
    "\n"
   ]
  },
  {
   "cell_type": "code",
   "execution_count": null,
   "id": "cc5dc97d",
   "metadata": {},
   "outputs": [],
   "source": []
  },
  {
   "cell_type": "code",
   "execution_count": null,
   "id": "936d7c92",
   "metadata": {},
   "outputs": [],
   "source": [
    "# Input ages of Ram, Sam, and Khan\n",
    "ram_age = int(input(\"Enter Ram's age: \"))\n",
    "sam_age = int(input(\"Enter Sam's age: \"))\n",
    "khan_age = int(input(\"Enter Khan's age: \"))\n",
    "\n",
    "# Assume Ram is the eldest and youngest initially\n",
    "eldest = \"Ram\"\n",
    "youngest = \"Ram\"\n",
    "\n",
    "# Compare ages to find the eldest and youngest\n",
    "if sam_age > ram_age:\n",
    "    eldest = \"Sam\"\n",
    "    youngest = \"Ram\"\n",
    "\n",
    "if khan_age > sam_age:\n",
    "    eldest = \"Khan\"\n",
    "\n",
    "if khan_age < ram_age:\n",
    "    youngest = \"Khan\"\n",
    "\n",
    "# Display the results\n",
    "print(f\"The eldest among Ram, Sam, and Khan is {eldest}.\")\n",
    "print(f\"The youngest among Ram, Sam, and Khan is {youngest}.\")"
   ]
  },
  {
   "cell_type": "code",
   "execution_count": null,
   "id": "df060230",
   "metadata": {},
   "outputs": [],
   "source": [
    "### Without Slicing:\n",
    "\n",
    "def rotate_right_n_times(lst, n):\n",
    "    if not lst:\n",
    "        return lst  # Empty list, no rotation needed\n",
    "    n = n % len(lst)  # Ensure n is within the length of the list\n",
    "    return lst[-n:] + lst[:-n]\n",
    "\n",
    "# Example usage:\n",
    "my_list = [1, 2, 3, 4, 5]\n",
    "n = int(input(\"Enter the number of times to rotate: \"))\n",
    "rotated_list = rotate_right_n_times(my_list, n)\n",
    "print(\"Rotated list:\", rotated_list)\n",
    "\n",
    "\n",
    "### With Slicing:\n",
    "\n",
    "python\n",
    "def rotate_right_n_times_with_slicing(lst, n):\n",
    "    if not lst:\n",
    "        return lst  # Empty list, no rotation needed\n",
    "    n = n % len(lst)  # Ensure n is within the length of the list\n",
    "    return lst[-n:] + lst[:-n]\n",
    "\n",
    "# Example usage:\n",
    "my_list = [1, 2, 3, 4, 5]\n",
    "n = int(input(\"Enter the number of times to rotate: \"))\n",
    "rotated_list = rotate_right_n_times_with_slicing(my_list, n)\n",
    "print(\"Rotated list:\", rotated_list)\n"
   ]
  },
  {
   "cell_type": "code",
   "execution_count": 26,
   "id": "abb591c7",
   "metadata": {},
   "outputs": [
    {
     "name": "stdout",
     "output_type": "stream",
     "text": [
      "* \n",
      "* * \n",
      "* * * \n",
      "* * * * \n",
      "* * * * * \n"
     ]
    }
   ],
   "source": [
    "#17. python program to print the patterns given below\n",
    "\n",
    "n=5\n",
    "for number in range(n):\n",
    "    print(\"* \" * (number+1))"
   ]
  },
  {
   "cell_type": "code",
   "execution_count": 27,
   "id": "b8aaee4e",
   "metadata": {},
   "outputs": [
    {
     "name": "stdout",
     "output_type": "stream",
     "text": [
      "       * \n",
      "      * * \n",
      "     * * * \n",
      "    * * * * \n",
      "   * * * * * \n",
      "  * * * * * * \n"
     ]
    }
   ],
   "source": [
    "n=7\n",
    "k=n\n",
    "for i in range(1,n):\n",
    "    spaces=\" \" * k\n",
    "    stars=\"* \" * i\n",
    "    print(spaces+stars)\n",
    "    k=k-1"
   ]
  },
  {
   "cell_type": "code",
   "execution_count": 29,
   "id": "3e21110f",
   "metadata": {},
   "outputs": [
    {
     "name": "stdout",
     "output_type": "stream",
     "text": [
      "p\n",
      "py\n",
      "pyt\n",
      "pyth\n",
      "pytho\n",
      "python\n"
     ]
    }
   ],
   "source": [
    "str='python'\n",
    "for i in range(1,7):\n",
    "    for j in range(0,i):\n",
    "        print(str[j],end=\"\")\n",
    "    print()"
   ]
  },
  {
   "cell_type": "code",
   "execution_count": null,
   "id": "2c7b475a",
   "metadata": {},
   "outputs": [],
   "source": []
  },
  {
   "cell_type": "code",
   "execution_count": null,
   "id": "a5f266a7",
   "metadata": {},
   "outputs": [],
   "source": []
  },
  {
   "cell_type": "code",
   "execution_count": null,
   "id": "3ff3ebcd",
   "metadata": {},
   "outputs": [],
   "source": []
  },
  {
   "cell_type": "code",
   "execution_count": null,
   "id": "4d73b4d0",
   "metadata": {},
   "outputs": [],
   "source": []
  }
 ],
 "metadata": {
  "kernelspec": {
   "display_name": "Python 3 (ipykernel)",
   "language": "python",
   "name": "python3"
  },
  "language_info": {
   "codemirror_mode": {
    "name": "ipython",
    "version": 3
   },
   "file_extension": ".py",
   "mimetype": "text/x-python",
   "name": "python",
   "nbconvert_exporter": "python",
   "pygments_lexer": "ipython3",
   "version": "3.11.4"
  }
 },
 "nbformat": 4,
 "nbformat_minor": 5
}
