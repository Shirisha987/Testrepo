{
 "cells": [
  {
   "cell_type": "code",
   "execution_count": 1,
   "id": "9ff51bdc",
   "metadata": {},
   "outputs": [
    {
     "name": "stdout",
     "output_type": "stream",
     "text": [
      "[[[0.30950592 0.85671903 0.58313456 0.36990389]\n",
      "  [0.45596295 0.39137829 0.54267662 0.81892792]\n",
      "  [0.96024612 0.0399215  0.79421589 0.64770846]\n",
      "  [0.01261492 0.11011259 0.52179878 0.18336651]]\n",
      "\n",
      " [[0.88622561 0.89371735 0.32321444 0.97494136]\n",
      "  [0.41814329 0.79965981 0.06231595 0.64988345]\n",
      "  [0.15788203 0.20433393 0.64927886 0.4727946 ]\n",
      "  [0.9987074  0.16048043 0.81822662 0.11143731]]\n",
      "\n",
      " [[0.89508185 0.38242613 0.18494386 0.94713214]\n",
      "  [0.24379776 0.68548785 0.4150351  0.333836  ]\n",
      "  [0.44211024 0.68890546 0.29635055 0.53781254]\n",
      "  [0.43101568 0.76813014 0.75728183 0.45525455]]\n",
      "\n",
      " [[0.22898479 0.44136116 0.47310363 0.12639036]\n",
      "  [0.54389233 0.73892643 0.8064739  0.75012646]\n",
      "  [0.7479249  0.17401603 0.17111323 0.80141816]\n",
      "  [0.38987808 0.20306478 0.16720363 0.2172595 ]]]\n"
     ]
    }
   ],
   "source": [
    "#1Create a 3*3*3 array with random values\n",
    "\n",
    "\n",
    "import numpy as np\n",
    "\n",
    "# Create a 3x3x3 array with random values between 0 and 1\n",
    "random_array = np.random.rand(4, 4, 4)\n",
    "\n",
    "print(random_array)\n"
   ]
  },
  {
   "cell_type": "code",
   "execution_count": 2,
   "id": "432119f6",
   "metadata": {},
   "outputs": [
    {
     "name": "stdout",
     "output_type": "stream",
     "text": [
      "[[0. 0. 0. 0. 0.]\n",
      " [1. 0. 0. 0. 0.]\n",
      " [0. 2. 0. 0. 0.]\n",
      " [0. 0. 3. 0. 0.]\n",
      " [0. 0. 0. 4. 0.]]\n"
     ]
    }
   ],
   "source": [
    "#2Create a 5*5 matrix with values 1,2,3,4 just below the diagonal.\n",
    "\n",
    "import numpy as np\n",
    "\n",
    "# Create a 5x5 matrix filled with zeros\n",
    "matrix = np.zeros((5, 5))\n",
    "\n",
    "# Fill values 1, 2, 3, 4 just below the diagonal\n",
    "for i in range(1, 5):\n",
    "    matrix[i, i - 1] = i\n",
    "\n",
    "print(matrix)"
   ]
  },
  {
   "cell_type": "code",
   "execution_count": 4,
   "id": "cefd8769",
   "metadata": {},
   "outputs": [
    {
     "name": "stdout",
     "output_type": "stream",
     "text": [
      "[[0 1 0 1 0 1 0 1]\n",
      " [1 0 1 0 1 0 1 0]\n",
      " [0 1 0 1 0 1 0 1]\n",
      " [1 0 1 0 1 0 1 0]\n",
      " [0 1 0 1 0 1 0 1]\n",
      " [1 0 1 0 1 0 1 0]\n",
      " [0 1 0 1 0 1 0 1]\n",
      " [1 0 1 0 1 0 1 0]]\n"
     ]
    }
   ],
   "source": [
    "#3Create a 8*8 matrix and fill it with a checkerboard pattern.\n",
    "\n",
    "import numpy as np\n",
    "\n",
    "# Create an 8x8 matrix filled with zeros\n",
    "checkerboard = np.zeros((8, 8), dtype=int)\n",
    "\n",
    "# Fill the checkerboard pattern with alternating 1s and 0s\n",
    "checkerboard[1::2, ::2] = 1  # Rows 2, 4, 6\n",
    "checkerboard[::2, 1::2] = 1  # Rows 1, 3, 5, 7\n",
    "\n",
    "print(checkerboard)"
   ]
  },
  {
   "cell_type": "code",
   "execution_count": 5,
   "id": "4a1834cb",
   "metadata": {},
   "outputs": [
    {
     "name": "stdout",
     "output_type": "stream",
     "text": [
      "Original Matrix:\n",
      "[[0.28147783 0.3797668  0.98603251 0.88150025 0.48365553]\n",
      " [0.29390266 0.49964439 0.46425414 0.88708011 0.06182797]\n",
      " [0.89447969 0.1502944  0.30007307 0.65354424 0.12911675]\n",
      " [0.89696793 0.68559467 0.49387701 0.42591881 0.340416  ]\n",
      " [0.05042829 0.87643282 0.75357024 0.45091958 0.92594575]]\n",
      "\n",
      "Normalized Matrix:\n",
      "[[-0.85672358 -0.51771583  1.57335052  1.2128091  -0.15939405]\n",
      " [-0.81386917 -0.10424698 -0.22631123  1.23205457 -1.61431619]\n",
      " [ 1.2575764  -1.30918731 -0.79258686  0.4265678  -1.38223098]\n",
      " [ 1.26615855  0.53711268 -0.1241392  -0.35853332 -0.65344038]\n",
      " [-1.65363476  1.19533108  0.77156671 -0.27230333  1.36610575]]\n"
     ]
    }
   ],
   "source": [
    "#4Normalize a 5*5 random matrix.\n",
    "\n",
    "import numpy as np\n",
    "\n",
    "# Create a 5x5 random matrix\n",
    "random_matrix = np.random.rand(5, 5)\n",
    "\n",
    "# Calculate the mean and standard deviation of the matrix\n",
    "mean_value = np.mean(random_matrix)\n",
    "std_deviation = np.std(random_matrix)\n",
    "\n",
    "# Normalize the matrix\n",
    "normalized_matrix = (random_matrix - mean_value) / std_deviation\n",
    "\n",
    "print(\"Original Matrix:\")\n",
    "print(random_matrix)\n",
    "\n",
    "print(\"\\nNormalized Matrix:\")\n",
    "print(normalized_matrix)"
   ]
  },
  {
   "cell_type": "code",
   "execution_count": 7,
   "id": "42450838",
   "metadata": {},
   "outputs": [
    {
     "name": "stdout",
     "output_type": "stream",
     "text": [
      "Common Values: [3 4 5]\n"
     ]
    }
   ],
   "source": [
    "#5 How to find common values between two arrays?\n",
    "\n",
    "import numpy as np\n",
    "\n",
    "# Create two arrays\n",
    "array1 = np.array([1, 2, 3, 4, 5])\n",
    "array2 = np.array([3, 4, 5, 6, 7])\n",
    "\n",
    "# Find common values between the two arrays\n",
    "common_values = np.intersect1d(array1, array2)\n",
    "\n",
    "print(\"Common Values:\", common_values)\n"
   ]
  },
  {
   "cell_type": "code",
   "execution_count": 8,
   "id": "e3359f03",
   "metadata": {},
   "outputs": [
    {
     "name": "stdout",
     "output_type": "stream",
     "text": [
      "Yesterday: 2023-09-20\n",
      "Today: 2023-09-21\n",
      "Tomorrow: 2023-09-22\n"
     ]
    }
   ],
   "source": [
    "#6How to get the dates of yesterday, today, and tomorrow?\n",
    "\n",
    "\n",
    "import numpy as np\n",
    "import datetime\n",
    "\n",
    "# Get today's date\n",
    "today = np.datetime64('today')\n",
    "\n",
    "# Calculate yesterday and tomorrow\n",
    "yesterday = today - np.timedelta64(1, 'D')\n",
    "tomorrow = today + np.timedelta64(1, 'D')\n",
    "\n",
    "print(\"Yesterday:\", yesterday)\n",
    "print(\"Today:\", today)\n",
    "print(\"Tomorrow:\", tomorrow)"
   ]
  },
  {
   "cell_type": "code",
   "execution_count": 9,
   "id": "3eafdf42",
   "metadata": {},
   "outputs": [
    {
     "name": "stdout",
     "output_type": "stream",
     "text": [
      "Arrays A and B are equal.\n"
     ]
    }
   ],
   "source": [
    "#7consider two random array A and B, check if they are equal.\n",
    "\n",
    "import numpy as np\n",
    "\n",
    "# Create two random arrays A and B (replace these with your actual arrays)\n",
    "A = np.array([1, 2, 3])\n",
    "B = np.array([1, 2, 3])\n",
    "\n",
    "# Check if A and B are equal\n",
    "are_equal = np.array_equal(A, B)\n",
    "\n",
    "if are_equal:\n",
    "    print(\"Arrays A and B are equal.\")\n",
    "else:\n",
    "    print(\"Arrays A and B are not equal.\")"
   ]
  },
  {
   "cell_type": "code",
   "execution_count": 10,
   "id": "3a27acd8",
   "metadata": {},
   "outputs": [
    {
     "name": "stdout",
     "output_type": "stream",
     "text": [
      "Random vector with the maximum value replaced: [0.37905629 0.         0.18093074 0.90700708 0.29303054 0.08667346\n",
      " 0.29116056 0.86464066 0.80801525 0.52570541]\n"
     ]
    }
   ],
   "source": [
    "#8 Create random vector of size 10 and replace the maximum values by 0.\n",
    "\n",
    "\n",
    "import numpy as np\n",
    "\n",
    "# Create a random vector of size 10\n",
    "random_vector = np.random.rand(10)\n",
    "\n",
    "# Find the index of the maximum value\n",
    "max_index = np.argmax(random_vector)\n",
    "\n",
    "# Replace the maximum value with 0\n",
    "random_vector[max_index] = 0\n",
    "\n",
    "print(\"Random vector with the maximum value replaced:\", random_vector)"
   ]
  },
  {
   "cell_type": "code",
   "execution_count": 11,
   "id": "e42027ae",
   "metadata": {},
   "outputs": [
    {
     "name": "stdout",
     "output_type": "stream",
     "text": [
      "1\n",
      "2\n",
      "3\n",
      "4\n",
      "5\n",
      "All values in the array: [1 2 3 4 5]\n"
     ]
    }
   ],
   "source": [
    "#9How to print all the values of an array?\n",
    "\n",
    "\n",
    "import numpy as np\n",
    "\n",
    "# Create a NumPy array\n",
    "my_array = np.array([1, 2, 3, 4, 5])\n",
    "\n",
    "# Option 1: Using a loop to print each element\n",
    "for value in my_array:\n",
    "    print(value)\n",
    "\n",
    "# Option 2: Using the print function to display the whole array\n",
    "print(\"All values in the array:\", my_array)\n",
    "\n",
    "\n",
    "\n",
    "\n",
    "\n",
    "\n",
    "\n",
    "\n"
   ]
  },
  {
   "cell_type": "code",
   "execution_count": 13,
   "id": "48768ff7",
   "metadata": {},
   "outputs": [
    {
     "name": "stdout",
     "output_type": "stream",
     "text": [
      "Original matrix:\n",
      " [[1 2 3]\n",
      " [4 5 6]\n",
      " [7 8 9]]\n",
      "Result matrix (mean subtracted from each row):\n",
      " [[-1.  0.  1.]\n",
      " [-1.  0.  1.]\n",
      " [-1.  0.  1.]]\n"
     ]
    }
   ],
   "source": [
    "#10Subtract the mean of each row of a matrix\n",
    "\n",
    "\n",
    "import numpy as np\n",
    "\n",
    "# Create a sample matrix\n",
    "matrix = np.array([[1, 2, 3],\n",
    "                   [4, 5, 6],\n",
    "                   [7, 8, 9]])\n",
    "\n",
    "# Calculate the mean of each row\n",
    "row_means = np.mean(matrix, axis=1, keepdims=True)\n",
    "\n",
    "# Subtract the row means from the matrix using broadcasting\n",
    "result_matrix = matrix - row_means\n",
    "\n",
    "print(\"Original matrix:\\n\", matrix)\n",
    "print(\"Result matrix (mean subtracted from each row):\\n\", result_matrix)"
   ]
  },
  {
   "cell_type": "code",
   "execution_count": 14,
   "id": "8f951e9e",
   "metadata": {},
   "outputs": [
    {
     "name": "stdout",
     "output_type": "stream",
     "text": [
      "Given vector: [1 2 3 4 5]\n",
      "Indices to add 1: [1 3 3 4]\n",
      "Result vector: [1 3 3 5 6]\n"
     ]
    }
   ],
   "source": [
    "#11Consider a given vector, how to add 1 to each element indexed by a second vector\n",
    "\n",
    "\n",
    "import numpy as np\n",
    "\n",
    "# Given vector\n",
    "given_vector = np.array([1, 2, 3, 4, 5])\n",
    "\n",
    "# Second vector with indices where you want to add 1\n",
    "indices_to_add_1 = np.array([1, 3, 3, 4])\n",
    "\n",
    "# Create a new vector with 1 added at the specified indices\n",
    "result_vector = given_vector.copy()  # Create a copy to avoid modifying the original\n",
    "result_vector[indices_to_add_1] += 1\n",
    "\n",
    "print(\"Given vector:\", given_vector)\n",
    "print(\"Indices to add 1:\", indices_to_add_1)\n",
    "print(\"Result vector:\", result_vector)"
   ]
  },
  {
   "cell_type": "code",
   "execution_count": 15,
   "id": "400e9d59",
   "metadata": {},
   "outputs": [
    {
     "name": "stdout",
     "output_type": "stream",
     "text": [
      "Dot Product:\n",
      "[[19 22]\n",
      " [43 50]]\n",
      "Diagonal of the Dot Product:\n",
      "[19 50]\n"
     ]
    }
   ],
   "source": [
    "#12How to get the diagonal of a dot product?\n",
    "\n",
    "import numpy as np\n",
    "\n",
    "# Create two sample matrices\n",
    "matrix_A = np.array([[1, 2],\n",
    "                     [3, 4]])\n",
    "\n",
    "matrix_B = np.array([[5, 6],\n",
    "                     [7, 8]])\n",
    "\n",
    "# Calculate the dot product of the two matrices\n",
    "dot_product = np.dot(matrix_A, matrix_B)\n",
    "\n",
    "# Get the diagonal of the dot product\n",
    "diagonal = np.diagonal(dot_product)\n",
    "\n",
    "print(\"Dot Product:\")\n",
    "print(dot_product)\n",
    "\n",
    "print(\"Diagonal of the Dot Product:\")\n",
    "print(diagonal)"
   ]
  },
  {
   "cell_type": "code",
   "execution_count": 16,
   "id": "30c4aae3",
   "metadata": {},
   "outputs": [
    {
     "name": "stdout",
     "output_type": "stream",
     "text": [
      "Array: [1 2 2 3 3 3 4 4 4 4]\n",
      "Most frequent value: 4\n"
     ]
    }
   ],
   "source": [
    "#13How to find the most frequent value in an array?\n",
    "\n",
    "\n",
    "import numpy as np\n",
    "\n",
    "# Create a sample array\n",
    "my_array = np.array([1, 2, 2, 3, 3, 3, 4, 4, 4, 4])\n",
    "\n",
    "# Use bincount to count occurrences of each value\n",
    "counts = np.bincount(my_array)\n",
    "\n",
    "# Find the index of the maximum count (i.e., the most frequent value)\n",
    "most_frequent_value = np.argmax(counts)\n",
    "\n",
    "print(\"Array:\", my_array)\n",
    "print(\"Most frequent value:\", most_frequent_value)"
   ]
  },
  {
   "cell_type": "code",
   "execution_count": 17,
   "id": "f0a7271a",
   "metadata": {},
   "outputs": [
    {
     "name": "stdout",
     "output_type": "stream",
     "text": [
      "Array: [5 2 9 1 8 3 7 4 6]\n",
      "3 Largest Values: [7 8 9]\n"
     ]
    }
   ],
   "source": [
    "#14How to get the n largest values of an array.\n",
    "\n",
    "\n",
    "import numpy as np\n",
    "\n",
    "# Create a sample array\n",
    "my_array = np.array([5, 2, 9, 1, 8, 3, 7, 4, 6])\n",
    "\n",
    "# Specify the number of largest values you want\n",
    "n = 3\n",
    "\n",
    "# Use partition to get the n largest values\n",
    "n_largest_values = np.partition(my_array, -n)[-n:]\n",
    "\n",
    "print(\"Array:\", my_array)\n",
    "print(f\"{n} Largest Values:\", n_largest_values)"
   ]
  },
  {
   "cell_type": "code",
   "execution_count": 21,
   "id": "07dad0cd",
   "metadata": {},
   "outputs": [
    {
     "ename": "ValueError",
     "evalue": "invalid literal for int() with base 10: 'Alice'",
     "output_type": "error",
     "traceback": [
      "\u001b[1;31m---------------------------------------------------------------------------\u001b[0m",
      "\u001b[1;31mValueError\u001b[0m                                Traceback (most recent call last)",
      "Cell \u001b[1;32mIn[21], line 16\u001b[0m\n\u001b[0;32m     13\u001b[0m dtype \u001b[38;5;241m=\u001b[39m [(\u001b[38;5;124m'\u001b[39m\u001b[38;5;124mID\u001b[39m\u001b[38;5;124m'\u001b[39m, \u001b[38;5;28mint\u001b[39m), (\u001b[38;5;124m'\u001b[39m\u001b[38;5;124mName\u001b[39m\u001b[38;5;124m'\u001b[39m, \u001b[38;5;124m'\u001b[39m\u001b[38;5;124mU10\u001b[39m\u001b[38;5;124m'\u001b[39m), (\u001b[38;5;124m'\u001b[39m\u001b[38;5;124mAge\u001b[39m\u001b[38;5;124m'\u001b[39m, \u001b[38;5;28mint\u001b[39m)]\n\u001b[0;32m     15\u001b[0m \u001b[38;5;66;03m# Create the record array\u001b[39;00m\n\u001b[1;32m---> 16\u001b[0m record_array \u001b[38;5;241m=\u001b[39m np\u001b[38;5;241m.\u001b[39marray(regular_array, dtype\u001b[38;5;241m=\u001b[39mdtype)\n\u001b[0;32m     18\u001b[0m \u001b[38;5;28mprint\u001b[39m(\u001b[38;5;124m\"\u001b[39m\u001b[38;5;124mRegular Array:\u001b[39m\u001b[38;5;124m\"\u001b[39m)\n\u001b[0;32m     19\u001b[0m \u001b[38;5;28mprint\u001b[39m(regular_array)\n",
      "\u001b[1;31mValueError\u001b[0m: invalid literal for int() with base 10: 'Alice'"
     ]
    }
   ],
   "source": [
    "#15How to create a record array from a regular array?\n",
    "\n",
    "\n",
    "import numpy as np\n",
    "\n",
    "# Create a regular NumPy array\n",
    "regular_array = np.array([[1, \"Alice\", 25],\n",
    "                          [2, \"Bob\", 30],\n",
    "                          [3, \"Charlie\", 35]])\n",
    "\n",
    "# Define data types for each field in the record array\n",
    "# In this example, we have an integer ID, a string name, and an integer age\n",
    "dtype = [('ID', int), ('Name', 'U10'), ('Age', int)]\n",
    "\n",
    "# Create the record array\n",
    "record_array = np.array(regular_array, dtype=dtype)\n",
    "\n",
    "print(\"Regular Array:\")\n",
    "print(regular_array)\n",
    "\n",
    "print(\"\\nRecord Array:\")\n",
    "print(record_array)"
   ]
  },
  {
   "cell_type": "code",
   "execution_count": 22,
   "id": "5be62b3f",
   "metadata": {},
   "outputs": [
    {
     "name": "stdout",
     "output_type": "stream",
     "text": [
      "Array with Rows Swapped:\n",
      "[[7 8 9]\n",
      " [4 5 6]\n",
      " [1 2 3]]\n"
     ]
    }
   ],
   "source": [
    "#16How to swap two rows of an array?\n",
    "\n",
    "import numpy as np\n",
    "\n",
    "# Create a sample 2D array\n",
    "my_array = np.array([[1, 2, 3],\n",
    "                     [4, 5, 6],\n",
    "                     [7, 8, 9]])\n",
    "\n",
    "# Define the row indices you want to swap\n",
    "row1_index = 0\n",
    "row2_index = 2\n",
    "\n",
    "# Swap the rows\n",
    "my_array[[row1_index, row2_index]] = my_array[[row2_index, row1_index]]\n",
    "\n",
    "print(\"Array with Rows Swapped:\")\n",
    "print(my_array)\n",
    "\n"
   ]
  },
  {
   "cell_type": "code",
   "execution_count": 23,
   "id": "0fd287e6",
   "metadata": {},
   "outputs": [
    {
     "name": "stdout",
     "output_type": "stream",
     "text": [
      "Original Array:\n",
      "[[ 23  34 121]\n",
      " [ 23  22  67]\n",
      " [686 434 123]]\n",
      "\n",
      "Reshaped Array:\n",
      "[[ 23  34 121]\n",
      " [ 23  22  67]\n",
      " [686 434 123]]\n"
     ]
    }
   ],
   "source": [
    "#17Write python code to reshape to the next dimenson of numpy array?\n",
    "\n",
    "\n",
    "import numpy as np\n",
    "\n",
    "# Given array\n",
    "given_array = np.array([[23, 34, 121],\n",
    "                        [23, 22, 67],\n",
    "                        [686, 434, 123]])\n",
    "\n",
    "# Reshape to the next higher dimension\n",
    "reshaped_array = given_array.reshape(-1, given_array.shape[-1])\n",
    "\n",
    "print(\"Original Array:\")\n",
    "print(given_array)\n",
    "\n",
    "print(\"\\nReshaped Array:\")\n",
    "print(reshaped_array)\n"
   ]
  },
  {
   "cell_type": "code",
   "execution_count": 2,
   "id": "12d9ec8b",
   "metadata": {},
   "outputs": [
    {
     "name": "stdout",
     "output_type": "stream",
     "text": [
      "Regular Array:\n",
      "[(1, 'Alice', 25) (2, 'Bob', 30) (3, 'Charlie', 28)]\n",
      "\n",
      "Record Array:\n",
      "((1, 'Alice', 25), (2, 'Bob', 30), (3, 'Charlie', 28))\n"
     ]
    }
   ],
   "source": [
    "#15How to create a record array from a regular array?\n",
    "\n",
    "import numpy as np\n",
    "\n",
    "# Create a regular array\n",
    "regular_array = np.array([(1, 'Alice', 25),\n",
    "                          (2, 'Bob', 30),\n",
    "                          (3, 'Charlie', 28)],\n",
    "                         dtype=[('ID', int), ('Name', 'U10'), ('Age', int)])\n",
    "\n",
    "# Create a record array from the regular array\n",
    "record_array = np.rec.fromarrays(regular_array.T, names=regular_array.dtype.names)\n",
    "\n",
    "print(\"Regular Array:\")\n",
    "print(regular_array)\n",
    "\n",
    "print(\"\\nRecord Array:\")\n",
    "print(record_array)"
   ]
  },
  {
   "cell_type": "code",
   "execution_count": null,
   "id": "348077da",
   "metadata": {},
   "outputs": [],
   "source": []
  },
  {
   "cell_type": "code",
   "execution_count": null,
   "id": "9146994f",
   "metadata": {},
   "outputs": [],
   "source": []
  },
  {
   "cell_type": "code",
   "execution_count": null,
   "id": "74b6f643",
   "metadata": {},
   "outputs": [],
   "source": []
  },
  {
   "cell_type": "code",
   "execution_count": null,
   "id": "d0743362",
   "metadata": {},
   "outputs": [],
   "source": []
  },
  {
   "cell_type": "code",
   "execution_count": null,
   "id": "b95405fe",
   "metadata": {},
   "outputs": [],
   "source": []
  },
  {
   "cell_type": "code",
   "execution_count": null,
   "id": "2536b353",
   "metadata": {},
   "outputs": [],
   "source": []
  },
  {
   "cell_type": "code",
   "execution_count": null,
   "id": "7f5486d9",
   "metadata": {},
   "outputs": [],
   "source": []
  },
  {
   "cell_type": "code",
   "execution_count": null,
   "id": "b2391c47",
   "metadata": {},
   "outputs": [],
   "source": []
  },
  {
   "cell_type": "code",
   "execution_count": null,
   "id": "eaa7fb1b",
   "metadata": {},
   "outputs": [],
   "source": []
  },
  {
   "cell_type": "code",
   "execution_count": null,
   "id": "620fce80",
   "metadata": {},
   "outputs": [],
   "source": []
  },
  {
   "cell_type": "code",
   "execution_count": null,
   "id": "108a9eb0",
   "metadata": {},
   "outputs": [],
   "source": []
  }
 ],
 "metadata": {
  "kernelspec": {
   "display_name": "Python 3 (ipykernel)",
   "language": "python",
   "name": "python3"
  },
  "language_info": {
   "codemirror_mode": {
    "name": "ipython",
    "version": 3
   },
   "file_extension": ".py",
   "mimetype": "text/x-python",
   "name": "python",
   "nbconvert_exporter": "python",
   "pygments_lexer": "ipython3",
   "version": "3.11.4"
  }
 },
 "nbformat": 4,
 "nbformat_minor": 5
}
