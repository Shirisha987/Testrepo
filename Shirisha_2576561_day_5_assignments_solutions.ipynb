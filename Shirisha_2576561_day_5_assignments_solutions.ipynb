{
 "cells": [
  {
   "cell_type": "code",
   "execution_count": 1,
   "id": "94a147cc",
   "metadata": {},
   "outputs": [
    {
     "name": "stdout",
     "output_type": "stream",
     "text": [
      "<mysql.connector.connection_cext.CMySQLConnection object at 0x00000241B6ADDA90>\n"
     ]
    }
   ],
   "source": [
    "import mysql.connector\n",
    "conn = mysql.connector.connect(user='root',\n",
    "                              password='Srikanth@4567',\n",
    "                              host='127.0.0.1',\n",
    "                              database='shirisha')\n",
    "\n",
    "print(conn)"
   ]
  },
  {
   "cell_type": "code",
   "execution_count": 2,
   "id": "9985f39e",
   "metadata": {},
   "outputs": [],
   "source": [
    "import mysql.connector"
   ]
  },
  {
   "cell_type": "code",
   "execution_count": 3,
   "id": "42679476",
   "metadata": {},
   "outputs": [
    {
     "name": "stdout",
     "output_type": "stream",
     "text": [
      "Order placed successfully!\n"
     ]
    }
   ],
   "source": [
    "#2.Custome Order Processing.\n",
    "\n",
    "\n",
    "\n",
    "# Connect to the MySQL database\n",
    "db = mysql.connector.connect(\n",
    "    host=\"127.0.0.1\",\n",
    "    user=\"root\",\n",
    "    password=\"Srikanth@4567\",\n",
    "    database=\"order_processing\"\n",
    ")\n",
    "\n",
    "cursor = db.cursor()\n",
    "\n",
    "# Function to place a new order\n",
    "def place_order(customer_id, product_id, quantity):\n",
    "    try:\n",
    "        # Check if the product is available\n",
    "        cursor.execute(\"SELECT quantity_available FROM Products WHERE product_id = %s\", (product_id,))\n",
    "        result = cursor.fetchone()\n",
    "\n",
    "        if result is not None:\n",
    "            available_quantity = result[0]\n",
    "            if available_quantity >= quantity:\n",
    "                # Calculate the total cost\n",
    "                cursor.execute(\"SELECT price FROM Products WHERE product_id = %s\", (product_id,))\n",
    "                result = cursor.fetchone()\n",
    "                if result is not None:\n",
    "                    unit_price = result[0]\n",
    "                    total_price = unit_price * quantity\n",
    "\n",
    "                    # Insert the order into the Orders and OrderDetails tables\n",
    "                    cursor.execute(\"INSERT INTO Orders (customer_id, total_amount) VALUES (%s, %s)\", (customer_id, total_price))\n",
    "                    order_id = cursor.lastrowid\n",
    "                    cursor.execute(\"INSERT INTO OrderDetails (order_id, product_id, quantity, unit_price, total_price) VALUES (%s, %s, %s, %s, %s)\", (order_id, product_id, quantity, unit_price, total_price))\n",
    "\n",
    "                    # Update product quantity\n",
    "                    new_quantity = available_quantity - quantity\n",
    "                    cursor.execute(\"UPDATE Products SET quantity_available = %s WHERE product_id = %s\", (new_quantity, product_id))\n",
    "\n",
    "                    db.commit()\n",
    "                    print(\"Order placed successfully!\")\n",
    "                else:\n",
    "                    print(\"Product price not found.\")\n",
    "            else:\n",
    "                print(\"Product is not available in the requested quantity.\")\n",
    "        else:\n",
    "            print(\"Product not found.\")\n",
    "    except Exception as e:\n",
    "        db.rollback()\n",
    "        print(\"Error:\", e)\n",
    "    finally:\n",
    "        cursor.close()\n",
    "        db.close()\n",
    "\n",
    "# Example usage\n",
    "place_order(1, 3, 2)  # Place an order for 2 units of product with ID 101 for customer with ID 1"
   ]
  },
  {
   "cell_type": "code",
   "execution_count": 2,
   "id": "761cfc10",
   "metadata": {},
   "outputs": [],
   "source": [
    "def say_hello():\n",
    "    print(\"Hello from module1\")\n",
    "\n",
    "m1_var = \"Variable from module1\""
   ]
  },
  {
   "cell_type": "code",
   "execution_count": 3,
   "id": "3386d45b",
   "metadata": {},
   "outputs": [],
   "source": [
    "def print_variable(variable):\n",
    "    print(f\"Variable from module2: {variable}\")\n",
    "\n",
    "m2_variable = \"I am from module2\""
   ]
  },
  {
   "cell_type": "code",
   "execution_count": null,
   "id": "7dab62a2",
   "metadata": {},
   "outputs": [],
   "source": [
    "try:\n",
    "    import m1\n",
    "    import m2\n",
    "    m1.say_hello()\n",
    "    m2.print_variable(m2.m2_variable)\n",
    "    \n",
    "except ImportError as e:\n",
    "    print(f\"Error importing module: {e}\")\n",
    "    \n",
    "except AttributeError as e:\n",
    "    print(f\"AttributeError: {e}\")\n",
    "\n",
    "except Exception as e:\n",
    "    print(f\"An error occurred: {e}\")"
   ]
  },
  {
   "cell_type": "code",
   "execution_count": 2,
   "id": "95b548ef",
   "metadata": {},
   "outputs": [
    {
     "name": "stdout",
     "output_type": "stream",
     "text": [
      "Database and tables created successfully.\n"
     ]
    }
   ],
   "source": [
    "#1.Implement Inventory Management in Python with MYSQL.\n",
    "\n",
    "import mysql.connector\n",
    "\n",
    "# Define the MySQL connection parameters\n",
    "db_config = {\n",
    "    \"host\": \"127.0.0.1\",        # Change this to your MySQL server's host\n",
    "    \"user\": \"root\",    # Your MySQL username\n",
    "    \"password\": \"Srikanth@4567\" # Your MySQL password\n",
    "}\n",
    "\n",
    "# Create a connection to MySQL\n",
    "conn = mysql.connector.connect(**db_config)\n",
    "\n",
    "# Create a cursor object to execute SQL commands\n",
    "cursor = conn.cursor()\n",
    "\n",
    "# Create the \"invent\" database if it doesn't exist\n",
    "cursor.execute(\"CREATE DATABASE IF NOT EXISTS invent\")\n",
    "\n",
    "# Switch to the \"invent\" database\n",
    "cursor.execute(\"USE invent\")\n",
    "\n",
    "# Create the \"purchases\" table\n",
    "cursor.execute(\"\"\"\n",
    "    CREATE TABLE IF NOT EXISTS purchases (\n",
    "        id INT AUTO_INCREMENT PRIMARY KEY,\n",
    "        product_id INT NOT NULL,\n",
    "        purchase_date DATE NOT NULL,\n",
    "        quantity INT NOT NULL,\n",
    "        unit_price DECIMAL(10, 2) NOT NULL,\n",
    "        total_price DECIMAL(10, 2) NOT NULL\n",
    "    )\n",
    "\"\"\")\n",
    "\n",
    "# Create the \"sales\" table\n",
    "cursor.execute(\"\"\"\n",
    "    CREATE TABLE IF NOT EXISTS sales (\n",
    "        id INT AUTO_INCREMENT PRIMARY KEY,\n",
    "        product_id INT NOT NULL,\n",
    "        sale_date DATE NOT NULL,\n",
    "        quantity INT NOT NULL,\n",
    "        unit_price DECIMAL(10, 2) NOT NULL,\n",
    "        total_price DECIMAL(10, 2) NOT NULL\n",
    "    )\n",
    "\"\"\")\n",
    "\n",
    "# Create the \"inventory\" table\n",
    "cursor.execute(\"\"\"\n",
    "    CREATE TABLE IF NOT EXISTS inventory (\n",
    "        id INT AUTO_INCREMENT PRIMARY KEY,\n",
    "        name VARCHAR(255) NOT NULL,\n",
    "        current_quantity INT NOT NULL,\n",
    "        unit_price DECIMAL(10, 2) NOT NULL\n",
    "    )\n",
    "\"\"\")\n",
    "\n",
    "# Commit the changes and close the cursor and connection\n",
    "conn.commit()\n",
    "cursor.close()\n",
    "conn.close()\n",
    "\n",
    "print(\"Database and tables created successfully.\")"
   ]
  },
  {
   "cell_type": "code",
   "execution_count": null,
   "id": "4f4f92e8",
   "metadata": {},
   "outputs": [],
   "source": []
  },
  {
   "cell_type": "code",
   "execution_count": null,
   "id": "f05e42e2",
   "metadata": {},
   "outputs": [],
   "source": []
  },
  {
   "cell_type": "code",
   "execution_count": null,
   "id": "5deb4b06",
   "metadata": {},
   "outputs": [],
   "source": []
  },
  {
   "cell_type": "code",
   "execution_count": null,
   "id": "a391163e",
   "metadata": {},
   "outputs": [],
   "source": []
  },
  {
   "cell_type": "code",
   "execution_count": null,
   "id": "a0f92594",
   "metadata": {},
   "outputs": [],
   "source": []
  },
  {
   "cell_type": "code",
   "execution_count": null,
   "id": "d9f7a0f9",
   "metadata": {},
   "outputs": [],
   "source": []
  },
  {
   "cell_type": "code",
   "execution_count": null,
   "id": "dafd1789",
   "metadata": {},
   "outputs": [],
   "source": []
  },
  {
   "cell_type": "code",
   "execution_count": null,
   "id": "e59e7864",
   "metadata": {},
   "outputs": [],
   "source": []
  },
  {
   "cell_type": "code",
   "execution_count": null,
   "id": "d608d12e",
   "metadata": {},
   "outputs": [],
   "source": []
  },
  {
   "cell_type": "code",
   "execution_count": null,
   "id": "c0209566",
   "metadata": {},
   "outputs": [],
   "source": []
  },
  {
   "cell_type": "code",
   "execution_count": null,
   "id": "a7595f79",
   "metadata": {},
   "outputs": [],
   "source": []
  },
  {
   "cell_type": "code",
   "execution_count": null,
   "id": "206e923a",
   "metadata": {},
   "outputs": [],
   "source": []
  },
  {
   "cell_type": "code",
   "execution_count": null,
   "id": "b9332039",
   "metadata": {},
   "outputs": [],
   "source": []
  },
  {
   "cell_type": "code",
   "execution_count": null,
   "id": "c5d113e0",
   "metadata": {},
   "outputs": [],
   "source": []
  },
  {
   "cell_type": "code",
   "execution_count": null,
   "id": "3e20ef5f",
   "metadata": {},
   "outputs": [],
   "source": []
  },
  {
   "cell_type": "code",
   "execution_count": null,
   "id": "ebbb1af9",
   "metadata": {},
   "outputs": [],
   "source": []
  },
  {
   "cell_type": "code",
   "execution_count": null,
   "id": "c153588c",
   "metadata": {},
   "outputs": [],
   "source": []
  },
  {
   "cell_type": "code",
   "execution_count": null,
   "id": "7069a919",
   "metadata": {},
   "outputs": [],
   "source": []
  }
 ],
 "metadata": {
  "kernelspec": {
   "display_name": "Python 3 (ipykernel)",
   "language": "python",
   "name": "python3"
  },
  "language_info": {
   "codemirror_mode": {
    "name": "ipython",
    "version": 3
   },
   "file_extension": ".py",
   "mimetype": "text/x-python",
   "name": "python",
   "nbconvert_exporter": "python",
   "pygments_lexer": "ipython3",
   "version": "3.11.4"
  }
 },
 "nbformat": 4,
 "nbformat_minor": 5
}
