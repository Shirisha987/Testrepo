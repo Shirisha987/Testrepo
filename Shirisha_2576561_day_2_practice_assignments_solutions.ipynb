{
 "cells": [
  {
   "cell_type": "markdown",
   "id": "3496e6d4",
   "metadata": {},
   "source": [
    "# Functions"
   ]
  },
  {
   "cell_type": "code",
   "execution_count": 2,
   "id": "76b75ffa",
   "metadata": {},
   "outputs": [
    {
     "name": "stdout",
     "output_type": "stream",
     "text": [
      "Even numbers: [2, 4, 6, 8]\n",
      "Odd numbers: [1, 3, 5, 7, 9]\n"
     ]
    }
   ],
   "source": [
    "#1.Write a python Function to list even and odd numbers in a list\n",
    "\n",
    "def separate_even_odd(numbers):\n",
    "    even_numbers = []\n",
    "    odd_numbers = []\n",
    "    \n",
    "    for num in numbers:\n",
    "        if num % 2 == 0:\n",
    "            even_numbers.append(num)\n",
    "        else:\n",
    "            odd_numbers.append(num)\n",
    "    \n",
    "    return even_numbers, odd_numbers\n",
    "\n",
    "# Example usage:\n",
    "numbers_list = [1, 2, 3, 4, 5, 6, 7, 8, 9]\n",
    "even, odd = separate_even_odd(numbers_list)\n",
    "print(\"Even numbers:\", even)\n",
    "print(\"Odd numbers:\", odd)"
   ]
  },
  {
   "cell_type": "code",
   "execution_count": null,
   "id": "a3d0b37d",
   "metadata": {},
   "outputs": [
    {
     "name": "stdout",
     "output_type": "stream",
     "text": [
      "Enter an integer: -4\n",
      "Enter an integer: 4\n",
      "Enter an integer: 8\n"
     ]
    }
   ],
   "source": [
    "#2.Write and run a Python program that asks the user to enter 8 integers, and then prints out how many of those integers were even numbers.For example, if the user entered 19,6,9,20,13,7,6 and 1, then your program should print out3 since 3 of those numbers were even.\n",
    "\n",
    "def count_even_numbers(numbers):\n",
    "    count = 0\n",
    "    for num in numbers:\n",
    "        if num % 2 == 0:\n",
    "            count += 1\n",
    "    return count\n",
    "\n",
    "try:\n",
    "    # Initialize an empty list to store the user's input\n",
    "    user_numbers = []\n",
    "\n",
    "    # Prompt the user to enter 8 integers\n",
    "    for i in range(8):\n",
    "        num = int(input(\"Enter an integer: \"))\n",
    "        user_numbers.append(num)\n",
    "\n",
    "    # Calculate the count of even numbers\n",
    "    even_count = count_even_numbers(user_numbers)\n",
    "\n",
    "    print(\"Number of even integers:\", even_count)\n",
    "except ValueError:\n",
    "    print(\"Invalid input. Please enter integers.\")"
   ]
  },
  {
   "cell_type": "code",
   "execution_count": 1,
   "id": "a1989708",
   "metadata": {},
   "outputs": [
    {
     "name": "stdout",
     "output_type": "stream",
     "text": [
      "Enter a positive integer: 0\n",
      "Please enter a positive integer.\n"
     ]
    }
   ],
   "source": [
    "#3.Write a python program where you take any positive integer n, if n is even, divide it by 2 to get n /2.if n is odd, multiple it by 3 and add 1 to obtain 3n=1.Request the process until you reach 1.\n",
    "\n",
    "\n",
    "def collatz_sequence(n):\n",
    "    sequence = [n]\n",
    "    while n != 1:\n",
    "        if n % 2 == 0:\n",
    "            n = n // 2\n",
    "        else:\n",
    "            n = 3 * n + 1\n",
    "        sequence.append(n)\n",
    "    return sequence\n",
    "\n",
    "try:\n",
    "    n = int(input(\"Enter a positive integer: \"))\n",
    "    if n <= 0:\n",
    "        print(\"Please enter a positive integer.\")\n",
    "    else:\n",
    "        result = collatz_sequence(n)\n",
    "        print(\"Collatz sequence:\", result)\n",
    "except ValueError:\n",
    "    print(\"Invalid input. Please enter a positive integer.\")"
   ]
  },
  {
   "cell_type": "code",
   "execution_count": 3,
   "id": "4d326fec",
   "metadata": {},
   "outputs": [
    {
     "name": "stdout",
     "output_type": "stream",
     "text": [
      "Sum of multiples of 3 or 5 below 500: 57918\n"
     ]
    }
   ],
   "source": [
    "#4.Write a python program to compute the sum of all the multiples of 3 or 5 below 500.\n",
    "\n",
    "def sum_multiples_3_or_5(limit):\n",
    "    total_sum = 0\n",
    "    for number in range(limit):\n",
    "        if number % 3 == 0 or number % 5 == 0:\n",
    "            total_sum += number\n",
    "    return total_sum\n",
    "\n",
    "limit = 500\n",
    "result = sum_multiples_3_or_5(limit)\n",
    "print(\"Sum of multiples of 3 or 5 below 500:\", result)\n"
   ]
  },
  {
   "cell_type": "code",
   "execution_count": 2,
   "id": "edc7d854",
   "metadata": {},
   "outputs": [
    {
     "name": "stdout",
     "output_type": "stream",
     "text": [
      "Enter the value of 'n' (number of prime numbers to find): 20\n",
      "The first 20 prime numbers from the list are: [2, 3, 5, 7, 11, 13, 17, 19, 23, 29]\n"
     ]
    }
   ],
   "source": [
    "#5.To write a python program to find first 'n' prime numbers from a list of given numbers.\n",
    "\n",
    "def is_prime(num):\n",
    "    if num <= 1:\n",
    "        return False\n",
    "    if num == 2:\n",
    "        return True\n",
    "    if num % 2 == 0:\n",
    "        return False\n",
    "    for i in range(3, int(num ** 0.5) + 1, 2):\n",
    "        if num % i == 0:\n",
    "            return False\n",
    "    return True\n",
    "\n",
    "def find_first_n_primes(numbers, n):\n",
    "    prime_numbers = []\n",
    "    for num in numbers:\n",
    "        if is_prime(num):\n",
    "            prime_numbers.append(num)\n",
    "            if len(prime_numbers) == n:\n",
    "                break\n",
    "    return prime_numbers\n",
    "\n",
    "try:\n",
    "    n = int(input(\"Enter the value of 'n' (number of prime numbers to find): \"))\n",
    "    if n <= 0:\n",
    "        print(\"Please enter a positive integer for 'n'.\")\n",
    "    else:\n",
    "        numbers = [2, 3, 5, 7, 11, 13, 17, 19, 23, 29]  # Example list of numbers, you can replace this with your own list.\n",
    "        prime_list = find_first_n_primes(numbers, n)\n",
    "        print(f\"The first {n} prime numbers from the list are:\", prime_list)\n",
    "except ValueError:\n",
    "    print(\"Invalid input. Please enter a positive integer for 'n'.\")\n",
    "\n",
    "\n",
    "\n"
   ]
  },
  {
   "cell_type": "code",
   "execution_count": 4,
   "id": "9b18ee8d",
   "metadata": {},
   "outputs": [
    {
     "name": "stdout",
     "output_type": "stream",
     "text": [
      "[19, 22]\n",
      "[43, 50]\n"
     ]
    }
   ],
   "source": [
    "#6.To write a python program to compute matrix multiplication.\n",
    "\n",
    "def matrix_multiply(matrix1, matrix2):\n",
    "    # Check if the matrices can be multiplied\n",
    "    if len(matrix1[0]) != len(matrix2):\n",
    "        return \"Matrix dimensions are not compatible for multiplication.\"\n",
    "\n",
    "    # Initialize an empty result matrix\n",
    "    result = []\n",
    "    for i in range(len(matrix1)):\n",
    "        row = []\n",
    "        for j in range(len(matrix2[0])):\n",
    "            # Compute the dot product of the rows from matrix1 and columns from matrix2\n",
    "            dot_product = sum(matrix1[i][k] * matrix2[k][j] for k in range(len(matrix1[0])))\n",
    "            row.append(dot_product)\n",
    "        result.append(row)\n",
    "\n",
    "    return result\n",
    "\n",
    "# Example matrices for demonstration\n",
    "matrixA = [[1, 2], [3, 4]]\n",
    "matrixB = [[5, 6], [7, 8]]\n",
    "\n",
    "result_matrix = matrix_multiply(matrixA, matrixB)\n",
    "for row in result_matrix:\n",
    "    print(row)\n",
    "\n",
    "\n",
    "\n",
    "\n",
    "\n",
    "\n",
    "\n",
    "\n",
    "\n",
    "\n",
    "\n",
    "\n",
    "\n",
    "\n",
    "\n",
    "\n",
    "\n"
   ]
  },
  {
   "cell_type": "code",
   "execution_count": 5,
   "id": "56a71fec",
   "metadata": {},
   "outputs": [
    {
     "name": "stdout",
     "output_type": "stream",
     "text": [
      "Number of vowels: 3\n"
     ]
    }
   ],
   "source": [
    "#7.Write a python Function to count the number of vowels in a string.\n",
    "\n",
    "def count_vowels(input_string):\n",
    "    # Convert the input string to lowercase to handle both uppercase and lowercase vowels\n",
    "    input_string = input_string.lower()\n",
    "    \n",
    "    # Define a set of vowels\n",
    "    vowels = \"aeiou\"\n",
    "    \n",
    "    # Initialize a count variable\n",
    "    vowel_count = 0\n",
    "    \n",
    "    # Iterate through the characters in the input string\n",
    "    for char in input_string:\n",
    "        if char in vowels:\n",
    "            vowel_count += 1\n",
    "    \n",
    "    return vowel_count\n",
    "\n",
    "# Example usage:\n",
    "input_str = \"Hello, World!\"\n",
    "vowel_count = count_vowels(input_str)\n",
    "print(\"Number of vowels:\", vowel_count)\n",
    "\n",
    "\n",
    "\n",
    "\n",
    "\n",
    "\n",
    "\n",
    "\n",
    "\n",
    "\n"
   ]
  },
  {
   "cell_type": "code",
   "execution_count": 6,
   "id": "44085ddb",
   "metadata": {},
   "outputs": [
    {
     "name": "stdout",
     "output_type": "stream",
     "text": [
      "The factorial of 5 is 120\n"
     ]
    }
   ],
   "source": [
    "#8.Write a python Function for finding factorial for the given number using a recursive function.\n",
    "\n",
    "\n",
    "def factorial_recursive(n):\n",
    "    if n == 0:\n",
    "        return 1\n",
    "    else:\n",
    "        return n * factorial_recursive(n - 1)\n",
    "\n",
    "# Example usage:\n",
    "number = 5\n",
    "result = factorial_recursive(number)\n",
    "print(f\"The factorial of {number} is {result}\")\n",
    "\n",
    "\n",
    "\n",
    "\n",
    "\n",
    "\n",
    "\n",
    "\n",
    "\n",
    "\n"
   ]
  },
  {
   "cell_type": "code",
   "execution_count": 7,
   "id": "e474401d",
   "metadata": {},
   "outputs": [
    {
     "name": "stdout",
     "output_type": "stream",
     "text": [
      "Fibonacci series: [0, 1, 1, 2, 3, 5, 8, 13, 21, 34]\n"
     ]
    }
   ],
   "source": [
    "#9.Write a python Function for generating the Fibonacci series using the function.\n",
    "\n",
    "def fibonacci_recursive(n):\n",
    "    if n <= 0:\n",
    "        return []\n",
    "    elif n == 1:\n",
    "        return [0]\n",
    "    elif n == 2:\n",
    "        return [0, 1]\n",
    "    else:\n",
    "        fib_series = fibonacci_recursive(n - 1)\n",
    "        fib_series.append(fib_series[-1] + fib_series[-2])\n",
    "        return fib_series\n",
    "\n",
    "# Example usage:\n",
    "n = 10  # Change this value to generate a different number of Fibonacci numbers\n",
    "fibonacci_series = fibonacci_recursive(n)\n",
    "print(\"Fibonacci series:\", fibonacci_series)"
   ]
  },
  {
   "cell_type": "code",
   "execution_count": 8,
   "id": "713be147",
   "metadata": {},
   "outputs": [
    {
     "name": "stdout",
     "output_type": "stream",
     "text": [
      "Reversed number: 54321\n"
     ]
    }
   ],
   "source": [
    "#10.Python program to dsiplay the given integer in reverse order using the function without an in-built function.\n",
    "\n",
    "\n",
    "def reverse_integer(number):\n",
    "    reversed_num = 0\n",
    "    while number > 0:\n",
    "        digit = number % 10  # Get the last digit\n",
    "        reversed_num = reversed_num * 10 + digit  # Append the digit to the reversed number\n",
    "        number = number // 10  # Remove the last digit\n",
    "    return reversed_num\n",
    "\n",
    "# Example usage:\n",
    "input_number = 12345\n",
    "reversed_number = reverse_integer(input_number)\n",
    "print(\"Reversed number:\", reversed_number)"
   ]
  },
  {
   "cell_type": "code",
   "execution_count": 9,
   "id": "573260d3",
   "metadata": {},
   "outputs": [
    {
     "name": "stdout",
     "output_type": "stream",
     "text": [
      "Is sorted (sorted_list): True\n",
      "Is sorted (unsorted_list): False\n",
      "Has duplicates (list_with_duplicates): True\n"
     ]
    }
   ],
   "source": [
    "#11.write a python function to display all integers within the range 200-300 whose sum of digits is an even numbers.\n",
    "\n",
    "def is_sorted(arr):\n",
    "    return all(arr[i] <= arr[i + 1] for i in range(len(arr) - 1))\n",
    "\n",
    "def has_duplicates(arr):\n",
    "    seen = set()\n",
    "    for item in arr:\n",
    "        if item in seen:\n",
    "            return True\n",
    "        seen.add(item)\n",
    "    return False\n",
    "\n",
    "# Example usage:\n",
    "sorted_list = [1, 2, 3, 4, 5]\n",
    "unsorted_list = [4, 2, 6, 1, 3]\n",
    "list_with_duplicates = [1, 2, 3, 2, 4]\n",
    "\n",
    "print(\"Is sorted (sorted_list):\", is_sorted(sorted_list))\n",
    "print(\"Is sorted (unsorted_list):\", is_sorted(unsorted_list))\n",
    "print(\"Has duplicates (list_with_duplicates):\", has_duplicates(list_with_duplicates))\n"
   ]
  },
  {
   "cell_type": "code",
   "execution_count": 10,
   "id": "65ad3849",
   "metadata": {},
   "outputs": [
    {
     "name": "stdout",
     "output_type": "stream",
     "text": [
      "Number of digits: 5\n",
      "Sum of digits: 15\n"
     ]
    }
   ],
   "source": [
    "#12.Write a python function to find the number of digits and sum of digits for a given integer.\n",
    "\n",
    "def number_and_sum_of_digits(num):\n",
    "    # Convert the number to a string to count the digits and iterate through them\n",
    "    num_str = str(num)\n",
    "    \n",
    "    # Calculate the number of digits\n",
    "    num_digits = len(num_str)\n",
    "    \n",
    "    # Calculate the sum of digits\n",
    "    digit_sum = sum(int(digit) for digit in num_str)\n",
    "    \n",
    "    return num_digits, digit_sum\n",
    "\n",
    "# Example usage:\n",
    "input_number = 12345\n",
    "num_digits, digit_sum = number_and_sum_of_digits(input_number)\n",
    "print(f\"Number of digits: {num_digits}\")\n",
    "print(f\"Sum of digits: {digit_sum}\")"
   ]
  },
  {
   "cell_type": "code",
   "execution_count": 12,
   "id": "eba0cc41",
   "metadata": {},
   "outputs": [
    {
     "name": "stdout",
     "output_type": "stream",
     "text": [
      "List 1: [1, 2, 3, 4, 5]\n",
      "Yes, List is sorted.\n"
     ]
    },
    {
     "data": {
      "text/plain": [
       "False"
      ]
     },
     "execution_count": 12,
     "metadata": {},
     "output_type": "execute_result"
    }
   ],
   "source": [
    "#13.write functions called is_sorted that takes a list as a prameter and returns True if the list is sorted in ascending order and False otherwise and has_ duplicates that takes a list and returns True if there is any element that happens more than once.It should not modify the orginal list.\n",
    "\n",
    "def is_sorted(test_list):\n",
    "    flag = 0\n",
    "    i = 1\n",
    "    while i < len(test_list):\n",
    "        if(test_list[i] < test_list[i - 1]):\n",
    "            flag = 1\n",
    "        i += 1\n",
    "\n",
    "    if (not flag) :\n",
    "        print (\"Yes, List is sorted.\")\n",
    "    else :\n",
    "        print (\"No, List is not sorted.\")\n",
    "\n",
    "def has_duplicates(arr):\n",
    "    seen = []\n",
    "    for item in arr:\n",
    "        if item in seen:\n",
    "            return True\n",
    "        seen.append(item)\n",
    "    return False\n",
    "\n",
    "my_list1 = [1, 2, 3, 4, 5]\n",
    "print(\"List 1:\", my_list1)\n",
    "is_sorted(my_list1)\n",
    "has_duplicates(my_list1)"
   ]
  },
  {
   "cell_type": "code",
   "execution_count": 14,
   "id": "0a56c97c",
   "metadata": {},
   "outputs": [
    {
     "name": "stdout",
     "output_type": "stream",
     "text": [
      "Sum of elements in nested list: 28\n",
      "Cumulative sum of the list: [1, 3, 6, 10, 15]\n"
     ]
    }
   ],
   "source": [
    "Write functions called nested_sum that takes a list of integers and adds up the elements from all the nested lists and cumsum that takes a list of numbers and returns the cumulative sum,that is, a new list where the ith element the sum of the first i+1 elements from the original list.\n",
    "\n",
    "\n",
    "def nested_sum(lst):\n",
    "    total = 0\n",
    "    for item in lst:\n",
    "        if isinstance(item, list):\n",
    "            total += nested_sum(item)\n",
    "        else:\n",
    "            total += item\n",
    "    return total\n",
    "\n",
    "nested_list = [1, 2,[3, 4],[5,[6, 7]]]\n",
    "result = nested_sum(nested_list)\n",
    "print(\"Sum of elements in nested list:\", result)\n",
    "\n",
    "\n",
    "def cumsum(numbers):\n",
    "    cumulative_sum = []\n",
    "    current_sum = 0\n",
    "    for num in numbers:\n",
    "        current_sum += num\n",
    "        cumulative_sum.append(current_sum)\n",
    "    return cumulative_sum\n",
    "\n",
    "my_list = [1, 2, 3, 4, 5]\n",
    "cumulative_result = cumsum(my_list)\n",
    "print(\"Cumulative sum of the list:\", cumulative_result)\n"
   ]
  },
  {
   "cell_type": "code",
   "execution_count": null,
   "id": "eaff3aa7",
   "metadata": {},
   "outputs": [],
   "source": [
    "\n",
    "\n"
   ]
  },
  {
   "cell_type": "code",
   "execution_count": null,
   "id": "8aeb8689",
   "metadata": {},
   "outputs": [],
   "source": []
  }
 ],
 "metadata": {
  "kernelspec": {
   "display_name": "Python 3 (ipykernel)",
   "language": "python",
   "name": "python3"
  },
  "language_info": {
   "codemirror_mode": {
    "name": "ipython",
    "version": 3
   },
   "file_extension": ".py",
   "mimetype": "text/x-python",
   "name": "python",
   "nbconvert_exporter": "python",
   "pygments_lexer": "ipython3",
   "version": "3.11.4"
  }
 },
 "nbformat": 4,
 "nbformat_minor": 5
}
