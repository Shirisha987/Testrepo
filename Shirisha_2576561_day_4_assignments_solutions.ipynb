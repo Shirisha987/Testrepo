{
 "cells": [
  {
   "cell_type": "code",
   "execution_count": 1,
   "id": "a827507f",
   "metadata": {},
   "outputs": [
    {
     "name": "stdout",
     "output_type": "stream",
     "text": [
      "Enter a week number (1-7): 5\n",
      "The weekday for week 5 is Friday.\n"
     ]
    }
   ],
   "source": [
    "#3)Write a python program with Exception handling to input the week number and print the weekday.\n",
    "\n",
    "try:\n",
    "    week_number = int(input(\"Enter a week number (1-7): \"))\n",
    "    \n",
    "    if 1 <= week_number <= 7:\n",
    "        weekdays = [\"Monday\", \"Tuesday\", \"Wednesday\", \"Thursday\", \"Friday\", \"Saturday\", \"Sunday\"]\n",
    "        print(f\"The weekday for week {week_number} is {weekdays[week_number - 1]}.\")\n",
    "    else:\n",
    "        print(\"Invalid week number. Please enter a number between 1 and 7.\")\n",
    "except ValueError:\n",
    "    print(\"Invalid input. Please enter a valid number.\")"
   ]
  },
  {
   "cell_type": "code",
   "execution_count": 2,
   "id": "fa70915b",
   "metadata": {},
   "outputs": [
    {
     "name": "stdout",
     "output_type": "stream",
     "text": [
      "Enter Physics marks: 30\n",
      "Enter Chemistry marks: 50\n",
      "Enter Biology marks: 60\n",
      "Enter Mathematics marks: 34\n",
      "Enter Computer marks: 80\n",
      "Total Marks: 254.0\n",
      "Percentage: 50.80%\n",
      "Grade: E\n"
     ]
    }
   ],
   "source": [
    "#2)Write a Python program with Exception handling to input electricity unit chargers and calculate the total electricity bill according to the give condition:\n",
    "i)For the first 50 units Rs.0.50/unit\n",
    "ii)For the next 100 units Rs 0.75/unit\n",
    "iii)For the next 100 units Rs.1.20/unit\n",
    "iv)For units above 250 Rs.1.50/unit\n",
    "v)An additional surcharge of 20% is added to the bill.\n",
    "\n",
    "try:\n",
    "    # Input marks for each subject\n",
    "    physics = float(input(\"Enter Physics marks: \"))\n",
    "    chemistry = float(input(\"Enter Chemistry marks: \"))\n",
    "    biology = float(input(\"Enter Biology marks: \"))\n",
    "    mathematics = float(input(\"Enter Mathematics marks: \"))\n",
    "    computer = float(input(\"Enter Computer marks: \"))\n",
    "\n",
    "    # Calculate the total marks and percentage\n",
    "    total_marks = physics + chemistry + biology + mathematics + computer\n",
    "    percentage = (total_marks / 500) * 100\n",
    "\n",
    "    # Determine the grade based on the percentage\n",
    "    if percentage >= 90:\n",
    "        grade = \"A\"\n",
    "    elif percentage >= 80:\n",
    "        grade = \"B\"\n",
    "    elif percentage >= 60:\n",
    "        grade = \"C\"\n",
    "    elif percentage >= 40:\n",
    "        grade = \"E\"\n",
    "    else:\n",
    "        grade = \"F\"\n",
    "\n",
    "    # Print the result\n",
    "    print(f\"Total Marks: {total_marks}\")\n",
    "    print(f\"Percentage: {percentage:.2f}%\")\n",
    "    print(f\"Grade: {grade}\")\n",
    "except ValueError:\n",
    "    print(\"Invalid input. Please enter valid marks as numbers.\")\n"
   ]
  },
  {
   "cell_type": "code",
   "execution_count": null,
   "id": "0c742dc1",
   "metadata": {},
   "outputs": [
    {
     "name": "stdout",
     "output_type": "stream",
     "text": [
      "Enter Physics marks: 30\n"
     ]
    }
   ],
   "source": [
    "#1)Write a python program with Exception handling to input marks for five subjects Physics, Chemistry,Biology,Mathematics, and Computer.Calculate the percentage and grade according to the following,.\n",
    "i) Percentage>=90%:GradeA\n",
    "ii)Percentage>=80%:GradeB\n",
    "iii)Percentage>=70%:GradeC\n",
    "iv)Percentage>=60%:GradeD\n",
    "v)Percentage>=40%:GradeE\n",
    "vi)Percentage<40%:GradeF\n",
    "    \n",
    "try:\n",
    "    # Input marks for each subject\n",
    "    physics = float(input(\"Enter Physics marks: \"))\n",
    "    chemistry = float(input(\"Enter Chemistry marks: \"))\n",
    "    biology = float(input(\"Enter Biology marks: \"))\n",
    "    mathematics = float(input(\"Enter Mathematics marks: \"))\n",
    "    computer = float(input(\"Enter Computer marks: \"))\n",
    "\n",
    "    # Calculate the total marks and percentage\n",
    "    total_marks = physics + chemistry + biology + mathematics + computer\n",
    "    percentage = (total_marks / 500) * 100\n",
    "\n",
    "    # Determine the grade based on the percentage\n",
    "    if percentage >= 90:\n",
    "        grade = \"A\"\n",
    "    elif percentage >= 80:\n",
    "        grade = \"B\"\n",
    "    elif percentage >= 60:\n",
    "        grade = \"C\"\n",
    "    elif percentage >= 40:\n",
    "        grade = \"E\"\n",
    "    else:\n",
    "        grade = \"F\"\n",
    "\n",
    "    # Print the result\n",
    "    print(f\"Total Marks: {total_marks}\")\n",
    "    print(f\"Percentage: {percentage:.2f}%\")\n",
    "    print(f\"Grade: {grade}\")\n",
    "except ValueError:\n",
    "    print(\"Invalid input. Please enter valid marks as numbers.\")\n"
   ]
  },
  {
   "cell_type": "code",
   "execution_count": 2,
   "id": "81af19c1",
   "metadata": {},
   "outputs": [
    {
     "name": "stdout",
     "output_type": "stream",
     "text": [
      "Enter electricity unit charges: 123\n",
      "Total Electricity Bill with 20% Surcharge: Rs 95.70\n"
     ]
    }
   ],
   "source": [
    "#2)\n",
    "\n",
    "try:\n",
    "# Input electricity unit charges\n",
    "    units = float(input(\"Enter electricity unit charges: \"))\n",
    "\n",
    "    # Initialize variables for total bill and surcharge\n",
    "    total_bill = 0\n",
    "    surcharge = 0.20  # 20% surcharge\n",
    "\n",
    "    # Calculate the bill based on the provided conditions\n",
    "    if units <= 50:\n",
    "        total_bill = units * 0.50\n",
    "    elif units <= 150:\n",
    "        total_bill = (50 * 0.50) + ((units - 50) * 0.75)\n",
    "    elif units <= 250:\n",
    "        total_bill = (50 * 0.50) + (100 * 0.75) + ((units - 150) * 1.20)\n",
    "    else:\n",
    "        total_bill = (50 * 0.50) + (100 * 0.75) + (100 * 1.20) + ((units - 250) * 1.50)\n",
    "\n",
    "    # Apply the surcharge\n",
    "    total_bill_with_surcharge = total_bill + (total_bill * surcharge)\n",
    "\n",
    "    # Print the total bill with surcharge\n",
    "    print(f\"Total Electricity Bill with 20% Surcharge: Rs {total_bill_with_surcharge:.2f}\")\n",
    "except ValueError:\n",
    "    print(\"Invalid input. Please enter valid unit charges as numbers.\")"
   ]
  },
  {
   "cell_type": "code",
   "execution_count": 3,
   "id": "478535d8",
   "metadata": {},
   "outputs": [
    {
     "name": "stdout",
     "output_type": "stream",
     "text": [
      "Enter a week number (1-7): 5\n",
      "The weekday for week 5 is Friday.\n"
     ]
    }
   ],
   "source": [
    "try:\n",
    "    week_number = int(input(\"Enter a week number (1-7): \"))\n",
    "\n",
    "    if 1 <= week_number <= 7:\n",
    "        weekdays = [\"Monday\", \"Tuesday\", \"Wednesday\", \"Thursday\", \"Friday\", \"Saturday\", \"Sunday\"]\n",
    "        print(f\"The weekday for week {week_number} is {weekdays[week_number - 1]}.\")\n",
    "    else:\n",
    "        print(\"Invalid week number. Please enter a number between 1 and 7.\")\n",
    "except ValueError:\n",
    "    print(\"Invalid input. Please enter a valid number.\")\n",
    "\n"
   ]
  },
  {
   "cell_type": "code",
   "execution_count": 1,
   "id": "786873a2",
   "metadata": {},
   "outputs": [
    {
     "ename": "FileNotFoundError",
     "evalue": "[Errno 2] No such file or directory: 'apple.txt'",
     "output_type": "error",
     "traceback": [
      "\u001b[1;31m---------------------------------------------------------------------------\u001b[0m",
      "\u001b[1;31mFileNotFoundError\u001b[0m                         Traceback (most recent call last)",
      "Cell \u001b[1;32mIn[1], line 16\u001b[0m\n\u001b[0;32m     13\u001b[0m     \u001b[38;5;28;01mreturn\u001b[39;00m word_counts\n\u001b[0;32m     15\u001b[0m \u001b[38;5;28;01mif\u001b[39;00m \u001b[38;5;18m__name__\u001b[39m \u001b[38;5;241m==\u001b[39m \u001b[38;5;124m\"\u001b[39m\u001b[38;5;124m__main__\u001b[39m\u001b[38;5;124m\"\u001b[39m:\n\u001b[1;32m---> 16\u001b[0m     word_counts \u001b[38;5;241m=\u001b[39m count_words(\u001b[38;5;124m\"\u001b[39m\u001b[38;5;124mapple.txt\u001b[39m\u001b[38;5;124m\"\u001b[39m)\n\u001b[0;32m     17\u001b[0m     \u001b[38;5;28;01mfor\u001b[39;00m word, count \u001b[38;5;129;01min\u001b[39;00m word_counts\u001b[38;5;241m.\u001b[39mitems():\n\u001b[0;32m     18\u001b[0m         \u001b[38;5;28mprint\u001b[39m(\u001b[38;5;124mf\u001b[39m\u001b[38;5;124m\"\u001b[39m\u001b[38;5;132;01m{\u001b[39;00mword\u001b[38;5;132;01m}\u001b[39;00m\u001b[38;5;124m: \u001b[39m\u001b[38;5;132;01m{\u001b[39;00mcount\u001b[38;5;132;01m}\u001b[39;00m\u001b[38;5;124m\"\u001b[39m)\n",
      "Cell \u001b[1;32mIn[1], line 4\u001b[0m, in \u001b[0;36mcount_words\u001b[1;34m(file_path)\u001b[0m\n\u001b[0;32m      1\u001b[0m \u001b[38;5;28;01mdef\u001b[39;00m \u001b[38;5;21mcount_words\u001b[39m(file_path):\n\u001b[0;32m      2\u001b[0m     word_counts \u001b[38;5;241m=\u001b[39m {}\n\u001b[1;32m----> 4\u001b[0m     \u001b[38;5;28;01mwith\u001b[39;00m \u001b[38;5;28mopen\u001b[39m(file_path, \u001b[38;5;124m'\u001b[39m\u001b[38;5;124mr\u001b[39m\u001b[38;5;124m'\u001b[39m) \u001b[38;5;28;01mas\u001b[39;00m file:\n\u001b[0;32m      5\u001b[0m         \u001b[38;5;28;01mfor\u001b[39;00m line \u001b[38;5;129;01min\u001b[39;00m file:\n\u001b[0;32m      6\u001b[0m             words \u001b[38;5;241m=\u001b[39m line\u001b[38;5;241m.\u001b[39mstrip()\u001b[38;5;241m.\u001b[39msplit()\n",
      "File \u001b[1;32m~\\anaconda3\\Lib\\site-packages\\IPython\\core\\interactiveshell.py:284\u001b[0m, in \u001b[0;36m_modified_open\u001b[1;34m(file, *args, **kwargs)\u001b[0m\n\u001b[0;32m    277\u001b[0m \u001b[38;5;28;01mif\u001b[39;00m file \u001b[38;5;129;01min\u001b[39;00m {\u001b[38;5;241m0\u001b[39m, \u001b[38;5;241m1\u001b[39m, \u001b[38;5;241m2\u001b[39m}:\n\u001b[0;32m    278\u001b[0m     \u001b[38;5;28;01mraise\u001b[39;00m \u001b[38;5;167;01mValueError\u001b[39;00m(\n\u001b[0;32m    279\u001b[0m         \u001b[38;5;124mf\u001b[39m\u001b[38;5;124m\"\u001b[39m\u001b[38;5;124mIPython won\u001b[39m\u001b[38;5;124m'\u001b[39m\u001b[38;5;124mt let you open fd=\u001b[39m\u001b[38;5;132;01m{\u001b[39;00mfile\u001b[38;5;132;01m}\u001b[39;00m\u001b[38;5;124m by default \u001b[39m\u001b[38;5;124m\"\u001b[39m\n\u001b[0;32m    280\u001b[0m         \u001b[38;5;124m\"\u001b[39m\u001b[38;5;124mas it is likely to crash IPython. If you know what you are doing, \u001b[39m\u001b[38;5;124m\"\u001b[39m\n\u001b[0;32m    281\u001b[0m         \u001b[38;5;124m\"\u001b[39m\u001b[38;5;124myou can use builtins\u001b[39m\u001b[38;5;124m'\u001b[39m\u001b[38;5;124m open.\u001b[39m\u001b[38;5;124m\"\u001b[39m\n\u001b[0;32m    282\u001b[0m     )\n\u001b[1;32m--> 284\u001b[0m \u001b[38;5;28;01mreturn\u001b[39;00m io_open(file, \u001b[38;5;241m*\u001b[39margs, \u001b[38;5;241m*\u001b[39m\u001b[38;5;241m*\u001b[39mkwargs)\n",
      "\u001b[1;31mFileNotFoundError\u001b[0m: [Errno 2] No such file or directory: 'apple.txt'"
     ]
    }
   ],
   "source": [
    "def count_words(file_path):\n",
    "    word_counts = {}\n",
    "    \n",
    "    with open(file_path, 'r') as file:\n",
    "        for line in file:\n",
    "            words = line.strip().split()\n",
    "            for word in words:\n",
    "                if word in word_counts:\n",
    "                    word_counts[word] += 1\n",
    "                else:\n",
    "                    word_counts[word] = 1\n",
    "\n",
    "    return word_counts\n",
    "\n",
    "if __name__ == \"__main__\":\n",
    "    word_counts = count_words(\"apple.txt\")\n",
    "    for word, count in word_counts.items():\n",
    "        print(f\"{word}: {count}\")"
   ]
  },
  {
   "cell_type": "code",
   "execution_count": null,
   "id": "313abb7d",
   "metadata": {},
   "outputs": [],
   "source": [
    "#5)Write a Python program for finding the most frequent words in a text read from a file.\n",
    "\n",
    "#i.Initially open the text file in raed mode\n",
    "with open('D:\\\\file handling\\\\apple.txt', 'r') as file:\n",
    "#ii.Make all the letters in the document into lowercase letters and split the words in each line.\n",
    "    words = file.read().lower().replace(',', '').replace('.', '').split()\n",
    "    word_count = {}\n",
    "    for word in words:\n",
    "        if word not in word_count:\n",
    "#iii.Get the words in an order\n",
    "            word_count[word] = 1\n",
    "        else:\n",
    "            word_count[word] += 1\n",
    "#iv.Sort the words for finding the most frequent words in the file.    \n",
    "    for word, count in sorted(word_count.items(), key=lambda x: x[1], reverse=True):\n",
    "#v.Print the most frequent words in the file\n",
    "        print(f'{word}: {count}')\n",
    "\n",
    "\n"
   ]
  },
  {
   "cell_type": "code",
   "execution_count": 6,
   "id": "8cc937c1",
   "metadata": {},
   "outputs": [
    {
     "ename": "SyntaxError",
     "evalue": "invalid syntax (235793684.py, line 28)",
     "output_type": "error",
     "traceback": [
      "\u001b[1;36m  Cell \u001b[1;32mIn[6], line 28\u001b[1;36m\u001b[0m\n\u001b[1;33m    if__name__==\"__main__\":\u001b[0m\n\u001b[1;37m                          ^\u001b[0m\n\u001b[1;31mSyntaxError\u001b[0m\u001b[1;31m:\u001b[0m invalid syntax\n"
     ]
    }
   ],
   "source": [
    "#6)import system -----------\n",
    "\n",
    "# Function to process text files\n",
    "def process_text_files(input_file_path, output_file_path):\n",
    "    try:\n",
    "        # Check if the input file exists\n",
    "        with open(input_file_path, 'r') as input_file:\n",
    "            text_data = input_file.read()\n",
    "\n",
    "        # Perform text processing here (replace with your actual logic)\n",
    "        processed_data = text_data.upper()  # Example: Convert text to uppercase\n",
    "\n",
    "        # Write the processed data to the output file\n",
    "        with open(output_file_path, 'w') as output_file:\n",
    "            output_file.write(processed_data)\n",
    "\n",
    "        print(f\"File processing completed. Output written to {output_file_path}\")\n",
    "    except FileNotFoundError:\n",
    "        print(f\"Error: Input file '{input_file_path}' not found.\")\n",
    "        sys.exit(1)\n",
    "    except PermissionError:\n",
    "        print(f\"Error: Permission denied to write to '{output_file_path}'.\")\n",
    "        sys.exit(1)\n",
    "    except Exception as e:\n",
    "        print(f\"An error occurred: {str(e)}\")\n",
    "        sys.exit(1)\n",
    "\n",
    "if__name__==\"__main__\":\n",
    "    # Check if the correct number of command-line arguments are provided\n",
    "    if len(sys.argv) != 3:\n",
    "        print(\"Usage: python script.py <input_file_path> <output_file_path>\")\n",
    "        sys.exit(1)\n",
    "\n",
    "    input_file_path = sys.argv[1]\n",
    "    output_file_path = sys.argv[2]\n",
    "\n",
    "    # Call the function to process the text files\n",
    "    process_text_files(input_file_path, output_file_path)"
   ]
  },
  {
   "cell_type": "code",
   "execution_count": null,
   "id": "0fc9edd5",
   "metadata": {},
   "outputs": [],
   "source": []
  },
  {
   "cell_type": "code",
   "execution_count": null,
   "id": "63944ad4",
   "metadata": {},
   "outputs": [],
   "source": []
  },
  {
   "cell_type": "code",
   "execution_count": null,
   "id": "72bc5029",
   "metadata": {},
   "outputs": [],
   "source": []
  },
  {
   "cell_type": "code",
   "execution_count": null,
   "id": "dd56aa5b",
   "metadata": {},
   "outputs": [],
   "source": []
  }
 ],
 "metadata": {
  "kernelspec": {
   "display_name": "Python 3 (ipykernel)",
   "language": "python",
   "name": "python3"
  },
  "language_info": {
   "codemirror_mode": {
    "name": "ipython",
    "version": 3
   },
   "file_extension": ".py",
   "mimetype": "text/x-python",
   "name": "python",
   "nbconvert_exporter": "python",
   "pygments_lexer": "ipython3",
   "version": "3.11.4"
  }
 },
 "nbformat": 4,
 "nbformat_minor": 5
}
